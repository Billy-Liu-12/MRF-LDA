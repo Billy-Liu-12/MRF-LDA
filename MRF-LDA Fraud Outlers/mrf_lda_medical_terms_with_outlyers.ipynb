{
 "cells": [
  {
   "cell_type": "markdown",
   "metadata": {},
   "source": [
    "#### Dependencies"
   ]
  },
  {
   "cell_type": "code",
   "execution_count": 1,
   "metadata": {
    "scrolled": false
   },
   "outputs": [],
   "source": [
    "# !pip install numpy num2words nltk pandas Observations gensim\n",
    "# import nltk\n",
    "# nltk.download('stopwords')\n",
    "# nltk.download('punkt')\n",
    "# nltk.download('wordnet')\n",
    "# !pip install -U textblob\n",
    "# !python -m textblob.download_corpora"
   ]
  },
  {
   "cell_type": "markdown",
   "metadata": {},
   "source": [
    "#### Imports"
   ]
  },
  {
   "cell_type": "code",
   "execution_count": 25,
   "metadata": {},
   "outputs": [],
   "source": [
    "from nltk.corpus import stopwords\n",
    "from nltk.tokenize import word_tokenize\n",
    "from nltk.stem import PorterStemmer\n",
    "from num2words import num2words\n",
    "from collections import Counter\n",
    "from scipy import spatial\n",
    "from sklearn.feature_extraction.text import CountVectorizer\n",
    "from sklearn.feature_extraction.text import TfidfVectorizer\n",
    "from sklearn.decomposition import LatentDirichletAllocation\n",
    "from scipy.special import gammaln\n",
    "from collections import Counter\n",
    "from textblob import TextBlob\n",
    "from sklearn.manifold import TSNE\n",
    "from pylab import savefig\n",
    "from sklearn.ensemble import IsolationForest\n",
    "from sklearn.cluster import DBSCAN\n",
    "from scipy.stats import chi2\n",
    "\n",
    "import plotly\n",
    "import plotly.plotly as py\n",
    "import plotly.graph_objs as go\n",
    "import imp\n",
    "import numpy as np\n",
    "import pandas as pd\n",
    "import matplotlib.pyplot as plt\n",
    "import gensim\n",
    "import pickle\n",
    "import lda2\n",
    "import scipy\n",
    "import operator\n",
    "import nltk\n",
    "import os\n",
    "import string\n",
    "import copy\n",
    "import pickle"
   ]
  },
  {
   "cell_type": "code",
   "execution_count": 26,
   "metadata": {},
   "outputs": [
    {
     "data": {
      "text/plain": [
       "<module 'lda2' from 'lda2.pyc'>"
      ]
     },
     "execution_count": 26,
     "metadata": {},
     "output_type": "execute_result"
    }
   ],
   "source": [
    "imp.reload(lda2)"
   ]
  },
  {
   "cell_type": "code",
   "execution_count": 38,
   "metadata": {},
   "outputs": [],
   "source": [
    "import gzip"
   ]
  },
  {
   "cell_type": "code",
   "execution_count": 48,
   "metadata": {},
   "outputs": [],
   "source": [
    "def parse(path):\n",
    "  g = gzip.open(path, 'r')\n",
    "  for l in g:\n",
    "    yield eval(l)"
   ]
  },
  {
   "cell_type": "code",
   "execution_count": 49,
   "metadata": {},
   "outputs": [],
   "source": [
    "data = parse(\"reviews_Musical_Instruments_5.json.gz\")"
   ]
  },
  {
   "cell_type": "code",
   "execution_count": 51,
   "metadata": {},
   "outputs": [],
   "source": [
    "data = pd.DataFrame(list(data))"
   ]
  },
  {
   "cell_type": "code",
   "execution_count": 56,
   "metadata": {
    "scrolled": false
   },
   "outputs": [],
   "source": [
    "reviews = data['reviewText'].values"
   ]
  },
  {
   "cell_type": "code",
   "execution_count": 59,
   "metadata": {
    "scrolled": false
   },
   "outputs": [],
   "source": [
    "ratings = data['overall'].values"
   ]
  },
  {
   "cell_type": "markdown",
   "metadata": {},
   "source": [
    "### Preprocessing Methods"
   ]
  },
  {
   "cell_type": "code",
   "execution_count": 4,
   "metadata": {},
   "outputs": [],
   "source": [
    "def convert_numbers(k):\n",
    "    for i in range(len(k)):\n",
    "        try:\n",
    "            num2words(int(k[i]))\n",
    "            k[i] = \" \"\n",
    "        except:\n",
    "            pass\n",
    "    return k\n",
    "\n",
    "def get_cosine(a, b):\n",
    "    return 1 - spatial.distance.cosine(a, b)\n",
    "\n",
    "def preprocess(pd):\n",
    "    pd = pd.str.lower()\n",
    "    pd = pd.str.replace('[{}]'.format('!\"#$%&\\'()*+,-./:;<=>?@[\\\\]^_`{|}~\\n\\t'), ' ')\n",
    "    pd = pd.apply(lambda x: [w for w in w_tokenizer.tokenize(x)])\n",
    "    pd = pd.apply(lambda x: convert_numbers(x))\n",
    "    pd = pd.str.join(' ')\n",
    "    \n",
    "    pd = pd.apply(lambda x: [lemmatizer.lemmatize(w) for w in w_tokenizer.tokenize(x)])    \n",
    "    pd = pd.apply(lambda x: [item for item in x if item not in stop_words])\n",
    "    return pd\n",
    "\n",
    "def processReviews(reviews, window=5, MAX_VOCAB_SIZE=1000):\n",
    "    vectorizer = CountVectorizer(analyzer=\"word\",tokenizer=None)\n",
    "    count_matrix = vectorizer.fit_transform(reviews)\n",
    "    tfidf_vectorizer = TfidfVectorizer()\n",
    "    tfidf_matrix = tfidf_vectorizer.fit_transform(reviews)\n",
    "    words = vectorizer.get_feature_names()\n",
    "    vocabulary = dict(zip(words,np.arange(len(words))))\n",
    "    inv_vocabulary = dict(zip(np.arange(len(words)),words))\n",
    "    return count_matrix.toarray(), tfidf_matrix.toarray(), vocabulary, words"
   ]
  },
  {
   "cell_type": "markdown",
   "metadata": {},
   "source": [
    "### Score Methods"
   ]
  },
  {
   "cell_type": "code",
   "execution_count": 5,
   "metadata": {},
   "outputs": [],
   "source": [
    "def coherence_score(X, topic_sentiment_df):\n",
    "    X[X>1] = 1    \n",
    "    totalcnt = len(topic_sentiment_df)\n",
    "    total = 0\n",
    "    for allwords in topic_sentiment_df:\n",
    "        for word1 in allwords:\n",
    "            for word2 in allwords:\n",
    "                if word1 != word2:\n",
    "                    ind1 = vocabulary[word1]\n",
    "                    ind2 = vocabulary[word2]\n",
    "                    total += np.log((np.matmul(X[:,ind1].T, X[:,ind2]) + 1.0)/np.sum(X[:,ind2]))\n",
    "    return total/(2*totalcnt)\n",
    "\n",
    "def kl_score(pk,qk):\n",
    "    return (scipy.stats.entropy(pk,qk)*.5 + scipy.stats.entropy(qk,pk)*.5)\n",
    "\n",
    "def get_hscore(dt_distribution, X, k):\n",
    "    testlen = X.shape[0]\n",
    "    all_kl_scores = np.zeros((testlen, testlen))\n",
    "    for i in range(testlen-1):\n",
    "        for j in range(i+1,testlen):\n",
    "            score = kl_score(dt_distribution[i],dt_distribution[j])\n",
    "            all_kl_scores[i,j] = score\n",
    "            all_kl_scores[j,i] = score\n",
    "\n",
    "    dt = np.zeros((X.shape[0], k))\n",
    "\n",
    "    for i in range(X.shape[0]):\n",
    "        dt[i, dt_distribution[i].argmax()]=1\n",
    "\n",
    "    intradist = 0\n",
    "    for i in range(k):\n",
    "        cnt = dt[:,i].sum()\n",
    "        tmp = np.outer(dt[:,i],dt[:,i])\n",
    "        tmp = tmp * all_kl_scores\n",
    "        intradist += tmp.sum()*1.0/(cnt*(cnt-1))\n",
    "    intradist = intradist/k\n",
    "    \n",
    "\n",
    "    interdist = 0\n",
    "    for i in range(k):\n",
    "       for j in range(k):\n",
    "           if i != j:\n",
    "             cnt_i = dt[:,i].sum()\n",
    "             cnt_j = dt[:,j].sum()\n",
    "             tmp = np.outer(dt[:,i], dt[:,j])\n",
    "             tmp = tmp * all_kl_scores\n",
    "             interdist += tmp.sum()*1.0/(cnt_i*cnt_j)\n",
    "    interdist = interdist/(k*(k-1))\n",
    "    return intradist/interdist"
   ]
  },
  {
   "cell_type": "markdown",
   "metadata": {},
   "source": [
    "### Required Methods"
   ]
  },
  {
   "cell_type": "code",
   "execution_count": 6,
   "metadata": {},
   "outputs": [],
   "source": [
    "def plot_simple_TSNE(data, title):\n",
    "    X_embedded = TSNE(n_components=2).fit_transform(data)\n",
    "\n",
    "    X = np.array([i[0] for i in X_embedded])\n",
    "    Y = np.array([i[1] for i in X_embedded])\n",
    "    plt.scatter(X, Y)\n",
    "\n",
    "    plt.title(title)\n",
    "    plt.legend(loc=(1.04,0))\n",
    "    plt.show()\n",
    "\n",
    "def plot_TSNE(dt_distribution, C, labels, printit, title):\n",
    "    X_embedded = TSNE(n_components=2).fit_transform(dt_distribution)\n",
    "    plt.figure(figsize=(10, 10))\n",
    "    X = np.array([i[0] for i in X_embedded])\n",
    "    Y = np.array([i[1] for i in X_embedded])\n",
    "    for i in range(len(labels)):\n",
    "        xx = X[[np.where(C == i)[0].tolist()]]\n",
    "        yy = Y[[np.where(C == i)[0].tolist()]]\n",
    "        plt.scatter(xx, yy, label=labels[i])\n",
    "\n",
    "    if printit:\n",
    "        for idx, p in enumerate(X_embedded):\n",
    "            plt.annotate(idx, (p[0], p[1]))\n",
    "    plt.title(title)\n",
    "    plt.legend(loc=(1.04,0))\n",
    "    plt.show()\n",
    "    \n",
    "def get_doc_details(num):\n",
    "    print(\"label: \", C[num])\n",
    "    print(dataset[9].values[num])"
   ]
  },
  {
   "cell_type": "markdown",
   "metadata": {},
   "source": [
    "### Read Data"
   ]
  },
  {
   "cell_type": "code",
   "execution_count": 7,
   "metadata": {},
   "outputs": [],
   "source": [
    "dataset1 = pd.read_pickle(\"dataset_cleaned_autocorrected\")"
   ]
  },
  {
   "cell_type": "code",
   "execution_count": 8,
   "metadata": {},
   "outputs": [],
   "source": [
    "dataset1['Case Number'] = dataset1['Case Number'].apply(lambda x: \"old: \" + str(x).split(\" \")[1])"
   ]
  },
  {
   "cell_type": "code",
   "execution_count": 9,
   "metadata": {},
   "outputs": [],
   "source": [
    "dataset2 = pd.read_pickle(\"dataset_cleaned_autocorrected2\")"
   ]
  },
  {
   "cell_type": "code",
   "execution_count": 10,
   "metadata": {},
   "outputs": [],
   "source": [
    "dataset2.rename(columns={0: 'Case Number', 1: 'Text'}, inplace=True)"
   ]
  },
  {
   "cell_type": "code",
   "execution_count": 11,
   "metadata": {},
   "outputs": [],
   "source": [
    "dataset2['Case Number'] = dataset2['Case Number'].apply(lambda x: \"new: \" + str(x))"
   ]
  },
  {
   "cell_type": "code",
   "execution_count": 12,
   "metadata": {},
   "outputs": [],
   "source": [
    "dataset = pd.concat([dataset1, dataset2], axis=0)"
   ]
  },
  {
   "cell_type": "code",
   "execution_count": 13,
   "metadata": {},
   "outputs": [],
   "source": [
    "dataset = dataset.reset_index().drop(['index'], axis=1)"
   ]
  },
  {
   "cell_type": "code",
   "execution_count": 14,
   "metadata": {},
   "outputs": [],
   "source": [
    "icd_words = pd.read_csv(\"strict_medical_words.txt\", header=None)[0].values.tolist()"
   ]
  },
  {
   "cell_type": "code",
   "execution_count": 15,
   "metadata": {
    "scrolled": true
   },
   "outputs": [
    {
     "name": "stderr",
     "output_type": "stream",
     "text": [
      "/root/miniconda3/envs/python2/lib/python2.7/site-packages/smart_open/smart_open_lib.py:398: UserWarning:\n",
      "\n",
      "This function is deprecated, use smart_open.open instead. See the migration notes for details: https://github.com/RaRe-Technologies/smart_open/blob/master/README.rst#migrating-to-the-new-open-function\n",
      "\n"
     ]
    }
   ],
   "source": [
    "embeddings_index = gensim.models.KeyedVectors.load_word2vec_format('pubmed2018_w2v_200D/pubmed2018_w2v_200D.bin', binary=True)"
   ]
  },
  {
   "cell_type": "code",
   "execution_count": 16,
   "metadata": {
    "scrolled": true
   },
   "outputs": [],
   "source": [
    "# embeddings_index.most_similar(positive=[embeddings_index['female']], topn=1000)"
   ]
  },
  {
   "cell_type": "markdown",
   "metadata": {},
   "source": [
    "### Prepare Data"
   ]
  },
  {
   "cell_type": "code",
   "execution_count": 17,
   "metadata": {},
   "outputs": [],
   "source": [
    "dataset[8] = dataset[7].apply(lambda x: [item for item in x.split(\" \") if item in icd_words])\n",
    "dataset[9] = dataset[8].apply(lambda x: \" \".join(x))"
   ]
  },
  {
   "cell_type": "code",
   "execution_count": 18,
   "metadata": {},
   "outputs": [],
   "source": [
    "count_matrix, tfidf_matrix, vocabulary, words = processReviews(dataset[9].values)"
   ]
  },
  {
   "cell_type": "code",
   "execution_count": 19,
   "metadata": {},
   "outputs": [
    {
     "data": {
      "text/plain": [
       "((252, 572), (252, 572))"
      ]
     },
     "execution_count": 19,
     "metadata": {},
     "output_type": "execute_result"
    }
   ],
   "source": [
    "count_matrix.shape, tfidf_matrix.shape"
   ]
  },
  {
   "cell_type": "markdown",
   "metadata": {},
   "source": [
    "### Find Edges"
   ]
  },
  {
   "cell_type": "code",
   "execution_count": 20,
   "metadata": {},
   "outputs": [],
   "source": [
    "edges_threshold = 0.5"
   ]
  },
  {
   "cell_type": "code",
   "execution_count": 21,
   "metadata": {
    "scrolled": true
   },
   "outputs": [],
   "source": [
    "docs_edges, ignored, taken, count = [], [], [], 0\n",
    "for idx, doc in enumerate(dataset[8].values):\n",
    "    edges = []\n",
    "    for i in doc:\n",
    "        for j in doc:\n",
    "            if i != j:\n",
    "                try:\n",
    "                    a = embeddings_index[i]\n",
    "                    b = embeddings_index[j]\n",
    "                    if get_cosine(a, b) > edges_threshold and (vocabulary[i], vocabulary[j]) not in edges and (vocabulary[j], vocabulary[i]) not in edges:\n",
    "                        edges.append((vocabulary[i], vocabulary[j]))\n",
    "                except:\n",
    "                    try:\n",
    "                        embeddings_index[i]\n",
    "                        taken.append(i)\n",
    "                    except:\n",
    "                        ignored.append(i)\n",
    "                    try:\n",
    "                        embeddings_index[j]\n",
    "                    except:\n",
    "                        ignored.append(j)\n",
    "                        taken.append(j)\n",
    "                    pass\n",
    "    docs_edges.append(edges)"
   ]
  },
  {
   "cell_type": "code",
   "execution_count": 22,
   "metadata": {},
   "outputs": [],
   "source": [
    "edge_dict = {}\n",
    "for i in docs_edges:\n",
    "    for j in i:\n",
    "        try:\n",
    "            edge_dict[j[0]] += [j[1]]\n",
    "            edge_dict[j[1]] += [j[0]]\n",
    "        except:\n",
    "            edge_dict[j[0]] = [j[1]]\n",
    "            edge_dict[j[1]] = [j[0]]"
   ]
  },
  {
   "cell_type": "code",
   "execution_count": 23,
   "metadata": {},
   "outputs": [],
   "source": [
    "for i in edge_dict.keys():\n",
    "    edge_dict[i] = list(set(edge_dict[i]))"
   ]
  },
  {
   "cell_type": "code",
   "execution_count": 24,
   "metadata": {},
   "outputs": [
    {
     "data": {
      "text/plain": [
       "294"
      ]
     },
     "execution_count": 24,
     "metadata": {},
     "output_type": "execute_result"
    }
   ],
   "source": [
    "len(edge_dict)"
   ]
  },
  {
   "cell_type": "markdown",
   "metadata": {},
   "source": [
    "## Run Model"
   ]
  },
  {
   "cell_type": "code",
   "execution_count": 25,
   "metadata": {},
   "outputs": [],
   "source": [
    "k = N_TOPICS = 9\n",
    "lambda_param = 1.0"
   ]
  },
  {
   "cell_type": "code",
   "execution_count": 26,
   "metadata": {
    "scrolled": true
   },
   "outputs": [
    {
     "data": {
      "text/plain": [
       "<module 'lda2' from 'lda2.pyc'>"
      ]
     },
     "execution_count": 26,
     "metadata": {},
     "output_type": "execute_result"
    }
   ],
   "source": [
    "imp.reload(lda2)"
   ]
  },
  {
   "cell_type": "code",
   "execution_count": 27,
   "metadata": {},
   "outputs": [],
   "source": [
    "sampler = lda2.LdaSampler(n_topics=N_TOPICS, lambda_param=lambda_param)"
   ]
  },
  {
   "cell_type": "code",
   "execution_count": 28,
   "metadata": {
    "scrolled": true
   },
   "outputs": [],
   "source": [
    "for it, phi in enumerate(sampler.run(count_matrix, edge_dict, maxiter=100)):\n",
    "    sampler.loglikelihood(docs_edges)"
   ]
  },
  {
   "cell_type": "code",
   "execution_count": 29,
   "metadata": {},
   "outputs": [],
   "source": [
    "t_words = sampler.getTopKWords(5, words)\n",
    "top_words = [t_words[i] for i in t_words.keys()]\n",
    "document_topic = sampler.theta().argmax(axis=1)"
   ]
  },
  {
   "cell_type": "markdown",
   "metadata": {},
   "source": [
    "### Evaluation"
   ]
  },
  {
   "cell_type": "code",
   "execution_count": 30,
   "metadata": {
    "scrolled": true
   },
   "outputs": [
    {
     "data": {
      "text/plain": [
       "-10.724783747215197"
      ]
     },
     "execution_count": 30,
     "metadata": {},
     "output_type": "execute_result"
    }
   ],
   "source": [
    "coherence_score(count_matrix, top_words)"
   ]
  },
  {
   "cell_type": "code",
   "execution_count": 31,
   "metadata": {},
   "outputs": [
    {
     "data": {
      "text/plain": [
       "0.16005533222409765"
      ]
     },
     "execution_count": 31,
     "metadata": {},
     "output_type": "execute_result"
    }
   ],
   "source": [
    "get_hscore(sampler.theta(), count_matrix, k)"
   ]
  },
  {
   "cell_type": "code",
   "execution_count": 32,
   "metadata": {},
   "outputs": [],
   "source": [
    "topics_generated = sampler.theta().argmax(axis=1)\n",
    "document_word_sampler = np.dot(sampler.theta(), sampler.phi())"
   ]
  },
  {
   "cell_type": "code",
   "execution_count": 33,
   "metadata": {
    "scrolled": false
   },
   "outputs": [
    {
     "data": {
      "text/plain": [
       "[[u'operation', u'old', u'diagnosis', u'admission', u'eye'],\n",
       " [u'urine', u'skin', u'sepsis', u'lap', u'neonatal'],\n",
       " [u'stone', u'abdomen', u'discharge', u'fever', u'ureter'],\n",
       " [u'pulse', u'hip', u'sac', u'schedule', u'respiratory'],\n",
       " [u'admission', u'complication', u'proximal', u'distal', u'chest'],\n",
       " [u'bilirubin', u'cyanosis', u'inguinal', u'pallor', u'scrotum'],\n",
       " [u'angioplasty', u'using', u'artery', u'dominant', u'proximal'],\n",
       " [u'female', u'department', u'diagnosis', u'admission', u'treatment'],\n",
       " [u'chemotherapy', u'cancer', u'carcinoma', u'cycle', u'surgical']]"
      ]
     },
     "execution_count": 33,
     "metadata": {},
     "output_type": "execute_result"
    }
   ],
   "source": [
    "top_words"
   ]
  },
  {
   "cell_type": "markdown",
   "metadata": {},
   "source": [
    "### Visualizing D-T"
   ]
  },
  {
   "cell_type": "code",
   "execution_count": 34,
   "metadata": {
    "scrolled": false
   },
   "outputs": [
    {
     "name": "stdout",
     "output_type": "stream",
     "text": [
      "['Treatment', 'Heart Surgery', 'Symptoms', 'Procedure', 'Pregnency', 'Clinical', 'Tests', 'Cancer', 'Abdomen']\n"
     ]
    }
   ],
   "source": [
    "labels = list(xrange(N_TOPICS))\n",
    "labels = ['Treatment', 'Heart Surgery', 'Symptoms', 'Procedure', 'Pregnency', 'Clinical', 'Tests', 'Cancer', 'Abdomen']\n",
    "print(labels)"
   ]
  },
  {
   "cell_type": "code",
   "execution_count": 35,
   "metadata": {
    "scrolled": false
   },
   "outputs": [
    {
     "name": "stderr",
     "output_type": "stream",
     "text": [
      "/root/miniconda3/envs/python2/lib/python2.7/site-packages/ipykernel_launcher.py:18: FutureWarning:\n",
      "\n",
      "Using a non-tuple sequence for multidimensional indexing is deprecated; use `arr[tuple(seq)]` instead of `arr[seq]`. In the future this will be interpreted as an array index, `arr[np.array(seq)]`, which will result either in an error or a different result.\n",
      "\n",
      "/root/miniconda3/envs/python2/lib/python2.7/site-packages/ipykernel_launcher.py:19: FutureWarning:\n",
      "\n",
      "Using a non-tuple sequence for multidimensional indexing is deprecated; use `arr[tuple(seq)]` instead of `arr[seq]`. In the future this will be interpreted as an array index, `arr[np.array(seq)]`, which will result either in an error or a different result.\n",
      "\n"
     ]
    },
    {
     "data": {
      "image/png": "[encoded data removed]",
      "text/plain": [
       "<Figure size 720x720 with 1 Axes>"
      ]
     },
     "metadata": {
      "needs_background": "light"
     },
     "output_type": "display_data"
    }
   ],
   "source": [
    "plot_TSNE(document_word_sampler, topics_generated, labels, True, \"\")"
   ]
  },
  {
   "cell_type": "markdown",
   "metadata": {},
   "source": [
    "### Required Funcitons"
   ]
  },
  {
   "cell_type": "code",
   "execution_count": 36,
   "metadata": {},
   "outputs": [],
   "source": [
    "def sample_data(data, topics, topic_selected):\n",
    "    sampled, idxx = [], []\n",
    "    for idx, i in enumerate(topics):\n",
    "        if i == topic_selected:\n",
    "            sampled.append(data[idx].tolist())\n",
    "            idxx.append(dataset['Case Number'][idx])\n",
    "    return np.array(sampled), idxx"
   ]
  },
  {
   "cell_type": "code",
   "execution_count": 37,
   "metadata": {
    "scrolled": false
   },
   "outputs": [],
   "source": [
    "def get_mahalanobis(matrix):\n",
    "    return (np.dot(np.dot(np.array(matrix - np.mean(matrix, axis=0)), \n",
    "                         np.linalg.inv(np.cov(matrix.T))), np.array(matrix - np.mean(matrix, axis=0)).T)).diagonal()"
   ]
  },
  {
   "cell_type": "code",
   "execution_count": 38,
   "metadata": {
    "scrolled": true
   },
   "outputs": [],
   "source": [
    "def print_doc(ider):\n",
    "    print(dataset[dataset['Case Number']==ider][9].values[0])"
   ]
  },
  {
   "cell_type": "markdown",
   "metadata": {},
   "source": [
    "# getting outlyers"
   ]
  },
  {
   "cell_type": "code",
   "execution_count": 39,
   "metadata": {},
   "outputs": [],
   "source": [
    "reduced_dim = TSNE(n_components=2).fit_transform(document_word_sampler)"
   ]
  },
  {
   "cell_type": "code",
   "execution_count": 40,
   "metadata": {},
   "outputs": [],
   "source": [
    "sampled_all, idxx_all, mahalanobis_all = [], [], []\n",
    "for topic in range(N_TOPICS):\n",
    "    sampled, idxx = sample_data(reduced_dim, topics_generated, topic)\n",
    "    sampled_all.append(sampled)\n",
    "    idxx_all.append(idxx)\n",
    "    mahalanobis_all.append(get_mahalanobis(sampled))"
   ]
  },
  {
   "cell_type": "markdown",
   "metadata": {},
   "source": [
    "# Threshold"
   ]
  },
  {
   "cell_type": "code",
   "execution_count": 41,
   "metadata": {
    "scrolled": true
   },
   "outputs": [],
   "source": [
    "t = chi2.ppf(0.90, 2)"
   ]
  },
  {
   "cell_type": "code",
   "execution_count": 59,
   "metadata": {
    "scrolled": true
   },
   "outputs": [
    {
     "name": "stdout",
     "output_type": "stream",
     "text": [
      "(0, ['old: 35', 'new: 51', 'new: 58', 'new: 102', 'new: 105', 'new: 108'])\n",
      "(1, ['old: 36', 'old: 48', 'old: 66', 'new: 24', 'new: 138'])\n",
      "(2, ['new: 56', 'new: 81'])\n",
      "(3, ['old: 49'])\n",
      "(4, ['old: 72', 'new: 62', 'new: 167', 'new: 169'])\n",
      "(5, [])\n",
      "(6, ['new: 25'])\n",
      "(7, ['new: 16', 'new: 21', 'new: 22', 'new: 57', 'new: 109', 'new: 114', 'new: 137', 'new: 141'])\n",
      "(8, ['old: 68', 'old: 69'])\n"
     ]
    }
   ],
   "source": [
    "a_docs = []\n",
    "for l, (m, idxxs) in enumerate(zip(mahalanobis_all, idxx_all)):\n",
    "    print(l, [idxxs[i] for i in np.where(m>t)[0].tolist()])\n",
    "    a_docs += [idxxs[i] for i in np.where(m>t)[0].tolist()]"
   ]
  },
  {
   "cell_type": "code",
   "execution_count": 60,
   "metadata": {},
   "outputs": [
    {
     "name": "stdout",
     "output_type": "stream",
     "text": [
      "['old: 35', 'new: 15', 'new: 41', 'new: 42', 'new: 43', 'new: 44', 'new: 45', 'new: 46', 'new: 47', 'new: 48', 'new: 50', 'new: 51', 'new: 52', 'new: 58', 'new: 68', 'new: 102', 'new: 105', 'new: 107', 'new: 108', 'new: 110', 'new: 111', 'new: 112', 'new: 113', 'new: 115', 'new: 119', 'new: 120', 'new: 129', 'new: 130', 'new: 131', 'new: 132']\n"
     ]
    }
   ],
   "source": [
    "print(idxx_all[0])"
   ]
  },
  {
   "cell_type": "code",
   "execution_count": 61,
   "metadata": {},
   "outputs": [],
   "source": [
    "# new: 121 - heart, sleep, jaundice\n",
    "# new: 27, 28, 30, 31, 32, 40, 56 - heart and bladder together\n",
    "# old: 36 - oral breast\n",
    "# old: 66 - eye fever oral"
   ]
  },
  {
   "cell_type": "code",
   "execution_count": 62,
   "metadata": {
    "scrolled": false
   },
   "outputs": [
    {
     "name": "stdout",
     "output_type": "stream",
     "text": [
      "\n",
      "old: 35\n",
      "\n",
      "\n",
      "new: 51\n",
      "discharge old urology laparoscopic admission diagnosis treatment pathology urine urea facility\n",
      "\n",
      "new: 58\n",
      "discharge department infertility carpal admission discharge diagnosis uterine course antibiotic antacid fluid treatment abdomen uterus intramural uterine laparoscopic hysterectomy specimen laparoscopic hysterectomy discharge pulse urine treatment\n",
      "\n",
      "new: 102\n",
      "\n",
      "\n",
      "new: 105\n",
      "\n",
      "\n",
      "new: 108\n",
      "discharge female discharge discharge medicine discharge eye eye\n",
      "\n",
      "old: 36\n",
      "perinatal asphyxia respiratory neonatal staphylococcus aureus sepsis oral breast immunization schedule screening\n",
      "\n",
      "old: 48\n",
      "lap urine granular infestation dune\n",
      "\n",
      "old: 66\n",
      "febrile convulsion multiple fever generalized tonic clonic convulsion limb eye toxic dehydration skin decreased pallor eye febrile cell transfusion oral\n",
      "\n",
      "new: 24\n",
      "wet discharge transfusion admission discharge diagnosis delayed specie breathing birth delayed birth\n",
      "\n",
      "new: 138\n",
      "college discharge unit admission treatment toxic long extent\n",
      "\n",
      "new: 56\n",
      "department discharge diagnosis bladder renal abdomen micturition course antibiotic antiemetic analgesia fluid treatment abdomen renal bladder complication discharge heart fluid treatment\n",
      "\n",
      "new: 81\n",
      "vara iris education cell\n",
      "\n",
      "old: 49\n",
      "lap hydrocele hiv urine spermatic cord inflamed\n",
      "\n",
      "old: 72\n",
      "diagnostic routine\n",
      "\n",
      "new: 62\n",
      "department discharge diagnosis course admission aseptic precaution complication discharge heart treatment\n",
      "\n",
      "new: 167\n",
      "application bence course treatment discharge routine discharge discharge discharge discharge diagnosis chest pica ecg zinc bent cyanosis urgent phosphorus ecg test long\n",
      "\n",
      "new: 169\n",
      "department discharge diagnosis stemi posterior lateral chest arm clinical pallor uterus cyanosis pallor uterus chest platelet bilirubin bilirubin ecg elevation femoral femoral vein proximal\n",
      "\n",
      "new: 25\n",
      "indoor indoor treatment malaria\n",
      "\n",
      "new: 16\n",
      "discharge neonatal platelet discharge serum sodium serum cell iodine penis fluid discharge diagnosis\n",
      "\n",
      "new: 21\n",
      "old female proximal caries treatment treatment medicine medicine dental\n",
      "\n",
      "new: 22\n",
      "female proximal treatment treatment medicine medicine\n",
      "\n",
      "new: 57\n",
      "department discharge diagnosis unstable angina chest breath course antiplatelets antacid antiemetic fluid treatment ecg coronary femoral artery distal early discharge heart early pressure treatment stomach\n",
      "\n",
      "new: 109\n",
      "discharge female discharge discharge medicine discharge eye eye\n",
      "\n",
      "new: 114\n",
      "discharge female discharge discharge medicine discharge eye eye\n",
      "\n",
      "new: 137\n",
      "college discharge unit lump admission non treatment extent\n",
      "\n",
      "new: 141\n",
      "discharge admission discharge diagnosis chronic kidney stage clinical presentation using output treatment discharge\n",
      "\n",
      "old: 68\n",
      "urology obstructed uropathy multiple renal ureteric hypothyroidism sepsis tinea pubis abdomen urine fever chill lung basal lung basal allergy surgical mouth catheter thyroid hyperglycemic hygiene unit surgical abdominal\n",
      "\n",
      "old: 69\n",
      "urology pyonephrosis fever lung lung\n"
     ]
    }
   ],
   "source": [
    "for i in (a_docs):\n",
    "    print(\"\\n\"+i)\n",
    "    print_doc(i)"
   ]
  },
  {
   "cell_type": "code",
   "execution_count": 45,
   "metadata": {},
   "outputs": [
    {
     "name": "stdout",
     "output_type": "stream",
     "text": [
      "department discharge diagnosis bladder renal abdomen micturition course antibiotic antiemetic analgesia fluid treatment abdomen renal bladder complication discharge heart fluid treatment\n"
     ]
    }
   ],
   "source": [
    "print_doc(\"new: 56\")"
   ]
  },
  {
   "cell_type": "code",
   "execution_count": 46,
   "metadata": {},
   "outputs": [],
   "source": [
    "py.sign_in(\"william18026\", \"wC9Ph9QUtlZr4las0C2p\")"
   ]
  },
  {
   "cell_type": "code",
   "execution_count": null,
   "metadata": {},
   "outputs": [],
   "source": [
    "# labels = ['Tests', 'Anesthesia', 'Oral', 'Cancer', \"Fracture\", 'HIV', 'Kidney Stone', 'Allergy', 'Heart']"
   ]
  },
  {
   "cell_type": "code",
   "execution_count": null,
   "metadata": {
    "scrolled": true
   },
   "outputs": [],
   "source": [
    "traces = []\n",
    "for i in range(N_TOPICS):\n",
    "    X = []\n",
    "    Y = []\n",
    "    idds = []\n",
    "    for idx, j in enumerate(topics_generated):\n",
    "        if j == i:\n",
    "            X.append(reduced_dim[idx][0])\n",
    "            Y.append(reduced_dim[idx][1])\n",
    "            idds.append(dataset['Case Number'][idx])\n",
    "    trace = go.Scatter(\n",
    "        x = X,\n",
    "        y = Y,\n",
    "        text = idds,\n",
    "        mode = 'markers',\n",
    "        name = labels[i],\n",
    "        marker = dict(\n",
    "            line = dict(width = 1)\n",
    "        )\n",
    "    )\n",
    "    traces.append(trace)"
   ]
  },
  {
   "cell_type": "code",
   "execution_count": null,
   "metadata": {},
   "outputs": [],
   "source": [
    "py.iplot(traces, filename='basic-scatter-2')"
   ]
  },
  {
   "cell_type": "code",
   "execution_count": null,
   "metadata": {},
   "outputs": [],
   "source": []
  },
  {
   "cell_type": "code",
   "execution_count": 69,
   "metadata": {},
   "outputs": [
    {
     "data": {
      "text/html": [
       "<div>\n",
       "<style scoped>\n",
       "    .dataframe tbody tr th:only-of-type {\n",
       "        vertical-align: middle;\n",
       "    }\n",
       "\n",
       "    .dataframe tbody tr th {\n",
       "        vertical-align: top;\n",
       "    }\n",
       "\n",
       "    .dataframe thead th {\n",
       "        text-align: right;\n",
       "    }\n",
       "</style>\n",
       "<table border=\"1\" class=\"dataframe\">\n",
       "  <thead>\n",
       "    <tr style=\"text-align: right;\">\n",
       "      <th></th>\n",
       "      <th>Case Number</th>\n",
       "      <th>Text</th>\n",
       "      <th>6</th>\n",
       "      <th>7</th>\n",
       "      <th>8</th>\n",
       "      <th>9</th>\n",
       "    </tr>\n",
       "  </thead>\n",
       "  <tbody>\n",
       "    <tr>\n",
       "      <th>0</th>\n",
       "      <td>old: 1</td>\n",
       "      <td>NKH MULTI SPECIALITY HOSPITAL AND TRAUMA CENTE...</td>\n",
       "      <td>[nkh, multi, speciality, hospital, trauma, cen...</td>\n",
       "      <td>nkh multi speciality trauma center chhattisgar...</td>\n",
       "      <td>[multi, trauma, cerebrovascular, accident, fib...</td>\n",
       "      <td>multi trauma cerebrovascular accident fibula h...</td>\n",
       "    </tr>\n",
       "    <tr>\n",
       "      <th>1</th>\n",
       "      <td>old: 2</td>\n",
       "      <td>CHC NELASHNAR Hospital, Chhattisgarh Case No. ...</td>\n",
       "      <td>[chc, nelashnar, hospital, chhattisgarh, case,...</td>\n",
       "      <td>chc nelashnar chhattisgarh hs22018012 p9078 ma...</td>\n",
       "      <td>[malaria, oral]</td>\n",
       "      <td>malaria oral</td>\n",
       "    </tr>\n",
       "    <tr>\n",
       "      <th>2</th>\n",
       "      <td>old: 3</td>\n",
       "      <td>PHC BHANBEDA HOSPITAL, Chhattisgarh\\nCase No. ...</td>\n",
       "      <td>[phc, bhanbeda, hospital, chhattisgarh, case, ...</td>\n",
       "      <td>phc bhanbeda chhattisgarh hs22014050 s965 inte...</td>\n",
       "      <td>[fever, therapy, typhoid, fever, fever]</td>\n",
       "      <td>fever therapy typhoid fever fever</td>\n",
       "    </tr>\n",
       "    <tr>\n",
       "      <th>3</th>\n",
       "      <td>old: 4</td>\n",
       "      <td>111 SAVE LIFE HOSPITAL, JHARKHAND\\nCase No. CA...</td>\n",
       "      <td>[save, life, hospital, jharkhand, case, case, ...</td>\n",
       "      <td>save life hosp20p195371p127634 version hydroce...</td>\n",
       "      <td>[hydrocele, sac, unilateral, schedule, anesthe...</td>\n",
       "      <td>hydrocele sac unilateral schedule anesthetic g...</td>\n",
       "    </tr>\n",
       "    <tr>\n",
       "      <th>4</th>\n",
       "      <td>old: 5</td>\n",
       "      <td>111 SAVE LIFE HOSPITAL\\nCase No. CASE/HOSP20 P...</td>\n",
       "      <td>[save, life, hospital, case, case, hosp20, p19...</td>\n",
       "      <td>save life p19537 p128685 version hydrocele sac...</td>\n",
       "      <td>[hydrocele, sac, unilateral, schedule, scrotal...</td>\n",
       "      <td>hydrocele sac unilateral schedule scrotal anes...</td>\n",
       "    </tr>\n",
       "    <tr>\n",
       "      <th>5</th>\n",
       "      <td>old: 6</td>\n",
       "      <td>111 SAVE LIFE HOSPITAL\\nCase No. CASE/HOSP20P1...</td>\n",
       "      <td>[save, life, hospital, case, case, hosp20p1953...</td>\n",
       "      <td>save life hosp20p19537 p156478 version hydroce...</td>\n",
       "      <td>[hydrocele, sac, unilateral, schedule, scrotal...</td>\n",
       "      <td>hydrocele sac unilateral schedule scrotal scro...</td>\n",
       "    </tr>\n",
       "    <tr>\n",
       "      <th>6</th>\n",
       "      <td>old: 7</td>\n",
       "      <td>Brahmananada Narayana Multispeciality Hospital...</td>\n",
       "      <td>[brahmananada, narayana, multispeciality, hosp...</td>\n",
       "      <td>p23082 p231358 vary saxon carboplatin max cycl...</td>\n",
       "      <td>[cycle, cycle, allergy, chemotherapy, event, c...</td>\n",
       "      <td>cycle cycle allergy chemotherapy event conscio...</td>\n",
       "    </tr>\n",
       "    <tr>\n",
       "      <th>7</th>\n",
       "      <td>old: 8</td>\n",
       "      <td>Brahmananada Narayana Multispeciality Hospital...</td>\n",
       "      <td>[brahmananada, narayana, multispeciality, hosp...</td>\n",
       "      <td>p23082 vary saxon carboplatin max cycle cycle ...</td>\n",
       "      <td>[cycle, cycle, node, unit, unit, diabetic]</td>\n",
       "      <td>cycle cycle node unit unit diabetic</td>\n",
       "    </tr>\n",
       "    <tr>\n",
       "      <th>8</th>\n",
       "      <td>old: 9</td>\n",
       "      <td>Brahmananada Narayana Multispeciality Hospital...</td>\n",
       "      <td>[brahmananada, narayana, multispeciality, hosp...</td>\n",
       "      <td>p23082 p140333 testisbleomycin etoposide cispl...</td>\n",
       "      <td>[cell, cycle, cycle, sac, tumor, sac, tumor, c...</td>\n",
       "      <td>cell cycle cycle sac tumor sac tumor chemother...</td>\n",
       "    </tr>\n",
       "    <tr>\n",
       "      <th>9</th>\n",
       "      <td>old: 10</td>\n",
       "      <td>Brahmananada Narayana Multispeciality Hospital...</td>\n",
       "      <td>[brahmananada, narayana, multispeciality, hosp...</td>\n",
       "      <td>p23082 s106370 vary saxon carboplatin max cycl...</td>\n",
       "      <td>[cycle, cycle, stage, chemotherapy, anus]</td>\n",
       "      <td>cycle cycle stage chemotherapy anus</td>\n",
       "    </tr>\n",
       "    <tr>\n",
       "      <th>10</th>\n",
       "      <td>old: 11</td>\n",
       "      <td>Brahmananada Narayana Multispeciality Hospital...</td>\n",
       "      <td>[brahmananada, narayana, multispeciality, hosp...</td>\n",
       "      <td>hosp20p23082 p51544 vary saxon carboplatin max...</td>\n",
       "      <td>[cycle, cycle, chemotherapy, diabetic]</td>\n",
       "      <td>cycle cycle chemotherapy diabetic</td>\n",
       "    </tr>\n",
       "    <tr>\n",
       "      <th>11</th>\n",
       "      <td>old: 12</td>\n",
       "      <td>Brahmananada Narayana Multispeciality Hospital...</td>\n",
       "      <td>[brahmananada, narayana, multispeciality, hosp...</td>\n",
       "      <td>hosp20p23082 p122036 gastro apex per cycle max...</td>\n",
       "      <td>[gastro, cycle, cycle, allergy, unit, chemothe...</td>\n",
       "      <td>gastro cycle cycle allergy unit chemotherapy s...</td>\n",
       "    </tr>\n",
       "    <tr>\n",
       "      <th>12</th>\n",
       "      <td>old: 13</td>\n",
       "      <td>DEVKAMAL HOSPITAL AND RESEARCH CENTRE\\nCase No...</td>\n",
       "      <td>[devkamal, hospital, research, centre, case, c...</td>\n",
       "      <td>devkamal p07056 p25187 sent unilateral includi...</td>\n",
       "      <td>[unilateral, ureter, catheterization, retrogra...</td>\n",
       "      <td>unilateral ureter catheterization retrograde s...</td>\n",
       "    </tr>\n",
       "    <tr>\n",
       "      <th>13</th>\n",
       "      <td>old: 14</td>\n",
       "      <td>Curie Abdur Razzaque Ansari Cancer Institute\\n...</td>\n",
       "      <td>[sure, blur, razzaque, ansari, cancer, institu...</td>\n",
       "      <td>sure blur razzaque ansari cancer hosp20g13837 ...</td>\n",
       "      <td>[cancer, radiotherapy, radiotherapy, carcinoma...</td>\n",
       "      <td>cancer radiotherapy radiotherapy carcinoma alv...</td>\n",
       "    </tr>\n",
       "    <tr>\n",
       "      <th>14</th>\n",
       "      <td>old: 15</td>\n",
       "      <td>Curie Abdur Razzaque Ansari Cancer Institute\\n...</td>\n",
       "      <td>[sure, blur, razzaque, ansari, cancer, institu...</td>\n",
       "      <td>sure blur razzaque ansari cancer hosp20g13837 ...</td>\n",
       "      <td>[cancer, reconstruction, microvascular, dissec...</td>\n",
       "      <td>cancer reconstruction microvascular dissection...</td>\n",
       "    </tr>\n",
       "    <tr>\n",
       "      <th>15</th>\n",
       "      <td>old: 16</td>\n",
       "      <td>Curie Abdur Razzaque Ansari Cancer Institute\\n...</td>\n",
       "      <td>[sure, blur, razzaque, ansari, cancer, institu...</td>\n",
       "      <td>sure blur razzaque ansari cancer g13837 s26899...</td>\n",
       "      <td>[cancer, radiotherapy, radiotherapy, cancer, g...</td>\n",
       "      <td>cancer radiotherapy radiotherapy cancer global...</td>\n",
       "    </tr>\n",
       "    <tr>\n",
       "      <th>16</th>\n",
       "      <td>old: 17</td>\n",
       "      <td>Curie Abdur Razzaque Ansari Cancer Institute\\n...</td>\n",
       "      <td>[sure, blur, razzaque, ansari, cancer, institu...</td>\n",
       "      <td>sure blur razzaque ansari cancer g13837 s58792...</td>\n",
       "      <td>[cancer, radiological, diagnostic, cancer, glo...</td>\n",
       "      <td>cancer radiological diagnostic cancer global c...</td>\n",
       "    </tr>\n",
       "    <tr>\n",
       "      <th>17</th>\n",
       "      <td>old: 18</td>\n",
       "      <td>Curie Abdur Razzaque Ansari Cancer Institute\\n...</td>\n",
       "      <td>[sure, blur, razzaque, ansari, cancer, institu...</td>\n",
       "      <td>sure blur razzaque ansari cancer g13837 p15544...</td>\n",
       "      <td>[cancer, cancer, global, cancer, surgical, lum...</td>\n",
       "      <td>cancer cancer global cancer surgical lumbar su...</td>\n",
       "    </tr>\n",
       "    <tr>\n",
       "      <th>18</th>\n",
       "      <td>old: 19</td>\n",
       "      <td>Brahmananada Narayana Multispeciality Hospital...</td>\n",
       "      <td>[brahmananada, narayana, multispeciality, hosp...</td>\n",
       "      <td>p23082 p60174 brahmananda knit rise kamlesh ad...</td>\n",
       "      <td>[lung, allergy, lung, chemotherapy, event, con...</td>\n",
       "      <td>lung allergy lung chemotherapy event conscious...</td>\n",
       "    </tr>\n",
       "    <tr>\n",
       "      <th>19</th>\n",
       "      <td>old: 20</td>\n",
       "      <td>Brahmananada Narayana Multispeciality Hospital...</td>\n",
       "      <td>[brahmananada, narayana, multispeciality, hosp...</td>\n",
       "      <td>hosp20p23082 p216802 brahmananda ant disc sona...</td>\n",
       "      <td>[chemotherapy, event, consciousness]</td>\n",
       "      <td>chemotherapy event consciousness</td>\n",
       "    </tr>\n",
       "    <tr>\n",
       "      <th>20</th>\n",
       "      <td>old: 21</td>\n",
       "      <td>Brahmananada Narayana Multispeciality Hospital...</td>\n",
       "      <td>[brahmananada, narayana, multispeciality, hosp...</td>\n",
       "      <td>hosp20p23082 p56248 brahmananda knit rise suni...</td>\n",
       "      <td>[cell, cell, chemotherapy, diabetic]</td>\n",
       "      <td>cell cell chemotherapy diabetic</td>\n",
       "    </tr>\n",
       "    <tr>\n",
       "      <th>21</th>\n",
       "      <td>old: 22</td>\n",
       "      <td>Brahmananada Narayana Multispeciality Hospital...</td>\n",
       "      <td>[brahmananada, narayana, multispeciality, hosp...</td>\n",
       "      <td>p23082 p258138 nbrahmananda multispecialty ris...</td>\n",
       "      <td>[allergy, chemotherapy, event, consciousness]</td>\n",
       "      <td>allergy chemotherapy event consciousness</td>\n",
       "    </tr>\n",
       "    <tr>\n",
       "      <th>22</th>\n",
       "      <td>old: 23</td>\n",
       "      <td>Brahmananada Narayana Multispeciality Hospital...</td>\n",
       "      <td>[brahmananada, narayana, multispeciality, hosp...</td>\n",
       "      <td>hosp20p23082 p81750 brahmananda remark disc so...</td>\n",
       "      <td>[chemotherapy, event, consciousness]</td>\n",
       "      <td>chemotherapy event consciousness</td>\n",
       "    </tr>\n",
       "    <tr>\n",
       "      <th>23</th>\n",
       "      <td>old: 24</td>\n",
       "      <td>Brahmananada Narayana Multispeciality Hospital...</td>\n",
       "      <td>[brahmananada, narayana, multispeciality, hosp...</td>\n",
       "      <td>hosp20p23082 p68133 brahmananda multispecialty...</td>\n",
       "      <td>[stomach, pancreatic, sol, stomach, pancreatic...</td>\n",
       "      <td>stomach pancreatic sol stomach pancreatic sol ...</td>\n",
       "    </tr>\n",
       "    <tr>\n",
       "      <th>24</th>\n",
       "      <td>old: 25</td>\n",
       "      <td>Brahmananada Narayana Multispeciality Hospital...</td>\n",
       "      <td>[brahmananada, narayana, multispeciality, hosp...</td>\n",
       "      <td>p23082 p261271 brahmananda mutspeciality ad175...</td>\n",
       "      <td>[event, consciousness]</td>\n",
       "      <td>event consciousness</td>\n",
       "    </tr>\n",
       "    <tr>\n",
       "      <th>25</th>\n",
       "      <td>old: 26</td>\n",
       "      <td>\\nBrahmananada Narayana Multispeciality Hospit...</td>\n",
       "      <td>[brahmananada, narayana, multispeciality, hosp...</td>\n",
       "      <td>hosp20p23082 p209225 nbrahmananda muitispecial...</td>\n",
       "      <td>[sac, tumor, allergy, tumor, chemotherapy, eve...</td>\n",
       "      <td>sac tumor allergy tumor chemotherapy event con...</td>\n",
       "    </tr>\n",
       "    <tr>\n",
       "      <th>26</th>\n",
       "      <td>old: 27</td>\n",
       "      <td>\\n111 SAVE LIFE HOSPITAL\\nCase No. CASE/HOSP20...</td>\n",
       "      <td>[save, life, hospital, case, case, hosp20p1953...</td>\n",
       "      <td>save life hosp20p19537 p127634 save life adity...</td>\n",
       "      <td>[eye, schedule, scrotal, scar, anesthetic, ane...</td>\n",
       "      <td>eye schedule scrotal scar anesthetic anesthesi...</td>\n",
       "    </tr>\n",
       "    <tr>\n",
       "      <th>27</th>\n",
       "      <td>old: 28</td>\n",
       "      <td>\\n111 SAVE LIFE HOSPITAL\\nCase No. CASE/HOSP20...</td>\n",
       "      <td>[save, life, hospital, case, case, hosp20p1953...</td>\n",
       "      <td>save life hosp20p19537 p127634 save life adity...</td>\n",
       "      <td>[eye, schedule, scrotal, scar, anesthetic, ane...</td>\n",
       "      <td>eye schedule scrotal scar anesthetic anesthesi...</td>\n",
       "    </tr>\n",
       "    <tr>\n",
       "      <th>28</th>\n",
       "      <td>old: 29</td>\n",
       "      <td>\\nRANI HOSPITAL\\nCase No. CASE/HOSP20 P11827/P...</td>\n",
       "      <td>[rani, hospital, case, case, hosp20, p11827, p...</td>\n",
       "      <td>p11827 p39162 arm dukhharan charitable front g...</td>\n",
       "      <td>[arm, preterm, respiratory, sepsis, screening,...</td>\n",
       "      <td>arm preterm respiratory sepsis screening stage...</td>\n",
       "    </tr>\n",
       "    <tr>\n",
       "      <th>29</th>\n",
       "      <td>old: 30</td>\n",
       "      <td>RANI HOSPITAL\\nCase No. CASE/HOSP20P11827/P218...</td>\n",
       "      <td>[rani, hospital, case, case, hosp20p11827, p21...</td>\n",
       "      <td>hosp20p11827 p218865 form dukhharan charitable...</td>\n",
       "      <td>[preterm, sepsis, respiratory, mechanical, tra...</td>\n",
       "      <td>preterm sepsis respiratory mechanical transfus...</td>\n",
       "    </tr>\n",
       "    <tr>\n",
       "      <th>...</th>\n",
       "      <td>...</td>\n",
       "      <td>...</td>\n",
       "      <td>...</td>\n",
       "      <td>...</td>\n",
       "      <td>...</td>\n",
       "      <td>...</td>\n",
       "    </tr>\n",
       "    <tr>\n",
       "      <th>37</th>\n",
       "      <td>old: 38</td>\n",
       "      <td>RANI HOSPITAL\\nCase No. CASE/HOSP20P11827/P391...</td>\n",
       "      <td>[rani, hospital, case, case, hosp20p11827, p39...</td>\n",
       "      <td>hosp20p11827 p39199 form dukhharan charitable ...</td>\n",
       "      <td>[preterm, respiratory, sepsis, sodium, potassi...</td>\n",
       "      <td>preterm respiratory sepsis sodium potassium he...</td>\n",
       "    </tr>\n",
       "    <tr>\n",
       "      <th>38</th>\n",
       "      <td>old: 39</td>\n",
       "      <td>RANI HOSPITAL\\nCase No. CASE/HOSP20 P11827/S18...</td>\n",
       "      <td>[rani, hospital, case, case, hosp20, p11827, s...</td>\n",
       "      <td>p11827 s180730 form dukhharan charitable front...</td>\n",
       "      <td>[distress, respiratory, pneumoniae, sepsis, br...</td>\n",
       "      <td>distress respiratory pneumoniae sepsis breathi...</td>\n",
       "    </tr>\n",
       "    <tr>\n",
       "      <th>39</th>\n",
       "      <td>old: 40</td>\n",
       "      <td>RANI HOSPITAL\\nCase No. CASE/HOSP20P11827/P124...</td>\n",
       "      <td>[rani, hospital, case, case, hosp20p11827, p12...</td>\n",
       "      <td>hosp20p11827 p124787 dukhharan charitable fron...</td>\n",
       "      <td>[birth, respiratory, distress, respiratory, cl...</td>\n",
       "      <td>birth respiratory distress respiratory cloaca ...</td>\n",
       "    </tr>\n",
       "    <tr>\n",
       "      <th>40</th>\n",
       "      <td>old: 41</td>\n",
       "      <td>SUMMER HOSPITAL &amp; RESEARCH CENTRE PVT LTD.\\nCa...</td>\n",
       "      <td>[summer, hospital, research, centre, pvt, ltd,...</td>\n",
       "      <td>p07845 s280735 summerhospital horil ram rajend...</td>\n",
       "      <td>[hip, non, reactive, hiv, hip, non, reactive, ...</td>\n",
       "      <td>hip non reactive hiv hip non reactive crp non ...</td>\n",
       "    </tr>\n",
       "    <tr>\n",
       "      <th>41</th>\n",
       "      <td>old: 42</td>\n",
       "      <td>SUMMER HOSPITAL &amp; RESEARCH CENTRE PVT LTD.\\nCa...</td>\n",
       "      <td>[summer, hospital, research, centre, pvt, ltd,...</td>\n",
       "      <td>p07845 p273698 summerhospjairo yashwant shahde...</td>\n",
       "      <td>[lap, appendicitis, iliac, appendix, adhesion,...</td>\n",
       "      <td>lap appendicitis iliac appendix adhesion appen...</td>\n",
       "    </tr>\n",
       "    <tr>\n",
       "      <th>42</th>\n",
       "      <td>old: 43</td>\n",
       "      <td>SUMMER HOSPITAL &amp; RESEARCH CENTRE PVT LTD.\\nCa...</td>\n",
       "      <td>[summer, hospital, research, centre, pvt, ltd,...</td>\n",
       "      <td>p07845 p289048 nabh summerhospitalrc deepak ra...</td>\n",
       "      <td>[ray, lap, inguinal, hernia, urine, cell, cell...</td>\n",
       "      <td>ray lap inguinal hernia urine cell cell ray in...</td>\n",
       "    </tr>\n",
       "    <tr>\n",
       "      <th>43</th>\n",
       "      <td>old: 44</td>\n",
       "      <td>SUMMER HOSPITAL &amp; RESEARCH CENTRE PVT LTD.\\nCa...</td>\n",
       "      <td>[summer, hospital, research, centre, pvt, ltd,...</td>\n",
       "      <td>hosp20p07845 p258025 nabh summerhospitalrc pan...</td>\n",
       "      <td>[lap, cholelithiasis, urine, cholelithiasis, m...</td>\n",
       "      <td>lap cholelithiasis urine cholelithiasis multip...</td>\n",
       "    </tr>\n",
       "    <tr>\n",
       "      <th>44</th>\n",
       "      <td>old: 45</td>\n",
       "      <td>SUMMER HOSPITAL &amp; RESEARCH CENTRE PVT LTD.\\nCa...</td>\n",
       "      <td>[summer, hospital, research, centre, pvt, ltd,...</td>\n",
       "      <td>p07845 p246903 nabh summerhospitalrc birsa loh...</td>\n",
       "      <td>[lap, lump, hiv, urine, ecg, cystic, lump, ski...</td>\n",
       "      <td>lap lump hiv urine ecg cystic lump skin tissue...</td>\n",
       "    </tr>\n",
       "    <tr>\n",
       "      <th>45</th>\n",
       "      <td>old: 46</td>\n",
       "      <td>SUMMER HOSPITAL &amp; RESEARCH CENTRE PVT LTD.\\nCa...</td>\n",
       "      <td>[summer, hospital, research, centre, pvt, ltd,...</td>\n",
       "      <td>p07845 s216441 summerhospitairc tintus tirkey ...</td>\n",
       "      <td>[lap, lump, hiv, cell, urine, lump, skin]</td>\n",
       "      <td>lap lump hiv cell urine lump skin</td>\n",
       "    </tr>\n",
       "    <tr>\n",
       "      <th>46</th>\n",
       "      <td>old: 47</td>\n",
       "      <td>SUMMER HOSPITAL &amp; RESEARCH CENTRE PVT LTD.\\nCa...</td>\n",
       "      <td>[summer, hospital, research, centre, pvt, ltd,...</td>\n",
       "      <td>p07845 p146527 quality nabн summerhospitalrc a...</td>\n",
       "      <td>[lap, appendicitis, inguinal, vomiting, ray, u...</td>\n",
       "      <td>lap appendicitis inguinal vomiting ray urine c...</td>\n",
       "    </tr>\n",
       "    <tr>\n",
       "      <th>47</th>\n",
       "      <td>old: 48</td>\n",
       "      <td>SUMMER HOSPITAL &amp; RESEARCH CENTRE PVT LTD.\\nCa...</td>\n",
       "      <td>[summer, hospital, research, centre, pvt, ltd,...</td>\n",
       "      <td>p07845 s155336 nabh summerhospitalrc basu khoy...</td>\n",
       "      <td>[lap, urine, granular, infestation, dune]</td>\n",
       "      <td>lap urine granular infestation dune</td>\n",
       "    </tr>\n",
       "    <tr>\n",
       "      <th>48</th>\n",
       "      <td>old: 49</td>\n",
       "      <td>SUMMER HOSPITAL &amp; RESEARCH CENTRE PVT LTD.\\nCa...</td>\n",
       "      <td>[summer, hospital, research, centre, pvt, ltd,...</td>\n",
       "      <td>p07845 p167932 saten nabн summerhospitalrc sur...</td>\n",
       "      <td>[lap, hydrocele, hiv, urine, spermatic, cord, ...</td>\n",
       "      <td>lap hydrocele hiv urine spermatic cord inflamed</td>\n",
       "    </tr>\n",
       "    <tr>\n",
       "      <th>49</th>\n",
       "      <td>old: 50</td>\n",
       "      <td>SUMMER HOSPITAL &amp; RESEARCH CENTRE PVT LTD.\\nCa...</td>\n",
       "      <td>[summer, hospital, research, centre, pvt, ltd,...</td>\n",
       "      <td>p07845 pati nabh summerhospitalrc vinita kumar...</td>\n",
       "      <td>[lap, hiv, urine, ray, lap, appendix, appendix...</td>\n",
       "      <td>lap hiv urine ray lap appendix appendix skin a...</td>\n",
       "    </tr>\n",
       "    <tr>\n",
       "      <th>50</th>\n",
       "      <td>old: 51</td>\n",
       "      <td>SUMMER HOSPITAL &amp; RESEARCH CENTRE PVT LTD.\\nCa...</td>\n",
       "      <td>[summer, hospital, research, centre, pvt, ltd,...</td>\n",
       "      <td>p07845 p133765 safet patien nabh summerhospita...</td>\n",
       "      <td>[lap, fissure, anal, urine, ecg, stomach, fatty]</td>\n",
       "      <td>lap fissure anal urine ecg stomach fatty</td>\n",
       "    </tr>\n",
       "    <tr>\n",
       "      <th>51</th>\n",
       "      <td>old: 52</td>\n",
       "      <td>SUMMER HOSPITAL &amp; RESEARCH CENTRE PVT LTD.\\nCa...</td>\n",
       "      <td>[summer, hospital, research, centre, pvt, ltd,...</td>\n",
       "      <td>hosp20p07845 s234 quale miny bony nabh summerh...</td>\n",
       "      <td>[bony, tibia, fibula, imaging, intracranial, a...</td>\n",
       "      <td>bony tibia fibula imaging intracranial abnorma...</td>\n",
       "    </tr>\n",
       "    <tr>\n",
       "      <th>52</th>\n",
       "      <td>old: 53</td>\n",
       "      <td>SUMMER HOSPITAL &amp; RESEARCH CENTRE PVT LTD.\\nCa...</td>\n",
       "      <td>[summer, hospital, research, centre, pvt, ltd,...</td>\n",
       "      <td>p07845 p161818 nabh summerhospitalrc romila or...</td>\n",
       "      <td>[lap, fissure, hemorrhoid, hiv, urine, skin, h...</td>\n",
       "      <td>lap fissure hemorrhoid hiv urine skin hemorrho...</td>\n",
       "    </tr>\n",
       "    <tr>\n",
       "      <th>53</th>\n",
       "      <td>old: 54</td>\n",
       "      <td>Kantilal Gandhi Memorial Hospital\\nCase No. CA...</td>\n",
       "      <td>[mantilla, gandhi, memorial, hospital, case, c...</td>\n",
       "      <td>mantilla gandhi hosp20p00551 washing visit con...</td>\n",
       "      <td>[consulting, vara, dura, generalized, weakness...</td>\n",
       "      <td>consulting vara dura generalized weakness even...</td>\n",
       "    </tr>\n",
       "    <tr>\n",
       "      <th>54</th>\n",
       "      <td>old: 55</td>\n",
       "      <td>DEVKAMAL HOSPITAL AND RESEARCH CENTRE\\nCase No...</td>\n",
       "      <td>[devkamal, hospital, research, centre, case, c...</td>\n",
       "      <td>devkamal hosp20p07056 p51722 devkamal arab dev...</td>\n",
       "      <td>[intra, allergic, multiple, multiple, arm, wou...</td>\n",
       "      <td>intra allergic multiple multiple arm wound red...</td>\n",
       "    </tr>\n",
       "    <tr>\n",
       "      <th>55</th>\n",
       "      <td>old: 56</td>\n",
       "      <td>DEVKAMAL HOSPITAL AND RESEARCH CENTRE\\nCase No...</td>\n",
       "      <td>[devkamal, hospital, research, centre, case, c...</td>\n",
       "      <td>devkamal hosp20p07056 s30303 habil mini ipo fa...</td>\n",
       "      <td>[scar, hip, joint, trochanteric, bone, bearing...</td>\n",
       "      <td>scar hip joint trochanteric bone bearing knee hip</td>\n",
       "    </tr>\n",
       "    <tr>\n",
       "      <th>56</th>\n",
       "      <td>old: 57</td>\n",
       "      <td>gaba hospital\\nCase No. CASE/HOSP6 P01559/8684...</td>\n",
       "      <td>[gave, hospital, case, case, hosp6, p01559, ga...</td>\n",
       "      <td>gave hosp6 p01559 gaba yamuna nagar haryana pu...</td>\n",
       "      <td>[allergy, fistula, stage, fistula, hay, language]</td>\n",
       "      <td>allergy fistula stage fistula hay language</td>\n",
       "    </tr>\n",
       "    <tr>\n",
       "      <th>57</th>\n",
       "      <td>old: 58</td>\n",
       "      <td>gaba hospital\\nCase No. CASE/HOSP6 P01559/S822...</td>\n",
       "      <td>[gave, hospital, case, case, hosp6, p01559, s8...</td>\n",
       "      <td>gave hosp6 p01559 s8228 gaba yamuna nagar phon...</td>\n",
       "      <td>[renal, supervision, fistula]</td>\n",
       "      <td>renal supervision fistula</td>\n",
       "    </tr>\n",
       "    <tr>\n",
       "      <th>58</th>\n",
       "      <td>old: 59</td>\n",
       "      <td>Rama Superspeciality and Critical Care Hospita...</td>\n",
       "      <td>[superspeciality, critical, hospital, case, ca...</td>\n",
       "      <td>superspeciality critical hosp6 p00560 s32962 v...</td>\n",
       "      <td>[canal, vara, pallor, uterus, river, aspirin, ...</td>\n",
       "      <td>canal vara pallor uterus river aspirin parieta...</td>\n",
       "    </tr>\n",
       "    <tr>\n",
       "      <th>59</th>\n",
       "      <td>old: 60</td>\n",
       "      <td>VY INSTITUTE OF MEDICAL SCIENCES PVT. LTD.\\nCa...</td>\n",
       "      <td>[institute, medical, science, pvt, ltd, case, ...</td>\n",
       "      <td>science hs2201 r4930 jcr sanju shrihol sejbaha...</td>\n",
       "      <td>[lateral, tibia, lateral, tibia, deformity, kn...</td>\n",
       "      <td>lateral tibia lateral tibia deformity knee joi...</td>\n",
       "    </tr>\n",
       "    <tr>\n",
       "      <th>60</th>\n",
       "      <td>old: 61</td>\n",
       "      <td>VY INSTITUTE OF MEDICAL SCIENCES PVT. LTD.\\nCa...</td>\n",
       "      <td>[institute, medical, science, pvt, ltd, case, ...</td>\n",
       "      <td>science hs2201 r9486 shashank barik vill gidha...</td>\n",
       "      <td>[knee, anterior, cruciate, ligament, knee, kne...</td>\n",
       "      <td>knee anterior cruciate ligament knee knee liga...</td>\n",
       "    </tr>\n",
       "    <tr>\n",
       "      <th>61</th>\n",
       "      <td>old: 62</td>\n",
       "      <td>VY INSTITUTE OF MEDICAL SCIENCES PVT. LTD. Cas...</td>\n",
       "      <td>[institute, medical, science, pvt, ltd, case, ...</td>\n",
       "      <td>science hs2201 s21193 icr mslalita sahu kurud ...</td>\n",
       "      <td>[knee, posterior, knee, knee, knee, posterior,...</td>\n",
       "      <td>knee posterior knee knee knee posterior ligame...</td>\n",
       "    </tr>\n",
       "    <tr>\n",
       "      <th>62</th>\n",
       "      <td>old: 63</td>\n",
       "      <td>BHILAI GAYATRI HOSPITAL\\nCase No. CASE/HOSP22 ...</td>\n",
       "      <td>[bhilai, gayatri, hospital, case, case, hosp22...</td>\n",
       "      <td>bhilai gayatri hosp22 p00586 m646960 bhilai ga...</td>\n",
       "      <td>[distal, oriented, aseptic, precaution]</td>\n",
       "      <td>distal oriented aseptic precaution</td>\n",
       "    </tr>\n",
       "    <tr>\n",
       "      <th>63</th>\n",
       "      <td>old: 64</td>\n",
       "      <td>BHILAI GAYATRI HOSPITAL\\nCase No. CASE/HOSP22 ...</td>\n",
       "      <td>[bhilai, gayatri, hospital, case, case, hosp22...</td>\n",
       "      <td>bhilai gayatri hosp22 p00586 m283818 bhilai ga...</td>\n",
       "      <td>[fat, nerve, deformity, oriented, lung, precau...</td>\n",
       "      <td>fat nerve deformity oriented lung precaution a...</td>\n",
       "    </tr>\n",
       "    <tr>\n",
       "      <th>64</th>\n",
       "      <td>old: 65</td>\n",
       "      <td>BHILAI GAYATRI HOSPITAL\\nCase No. CASE/HOSP22P...</td>\n",
       "      <td>[bhilai, gayatri, hospital, case, case, hosp22...</td>\n",
       "      <td>bhilai gayatri hosp22p00586 m315759 bhilai gay...</td>\n",
       "      <td>[urology, ureteric, stone, hydronephrosis, kid...</td>\n",
       "      <td>urology ureteric stone hydronephrosis kidney u...</td>\n",
       "    </tr>\n",
       "    <tr>\n",
       "      <th>65</th>\n",
       "      <td>old: 66</td>\n",
       "      <td>V care children hospital\\nCase No: CASE/HOSP23...</td>\n",
       "      <td>[v, care, child, hospital, case, case, hosp23p...</td>\n",
       "      <td>child hosp23p01452 g95352 picket mast yash pra...</td>\n",
       "      <td>[febrile, convulsion, multiple, fever, general...</td>\n",
       "      <td>febrile convulsion multiple fever generalized ...</td>\n",
       "    </tr>\n",
       "    <tr>\n",
       "      <th>66</th>\n",
       "      <td>old: 67</td>\n",
       "      <td>CAREWELL MULTISPECIALITY HOSPITAL\\nCase No: CA...</td>\n",
       "      <td>[carewell, multispeciality, hospital, case, ca...</td>\n",
       "      <td>carewell hosp23p02220 g37256 document carewell...</td>\n",
       "      <td>[dura, inguinal, hernia, inguinal, lung, lung]</td>\n",
       "      <td>dura inguinal hernia inguinal lung lung</td>\n",
       "    </tr>\n",
       "  </tbody>\n",
       "</table>\n",
       "<p>67 rows × 6 columns</p>\n",
       "</div>"
      ],
      "text/plain": [
       "   Case Number                                               Text  \\\n",
       "0       old: 1  NKH MULTI SPECIALITY HOSPITAL AND TRAUMA CENTE...   \n",
       "1       old: 2  CHC NELASHNAR Hospital, Chhattisgarh Case No. ...   \n",
       "2       old: 3  PHC BHANBEDA HOSPITAL, Chhattisgarh\\nCase No. ...   \n",
       "3       old: 4  111 SAVE LIFE HOSPITAL, JHARKHAND\\nCase No. CA...   \n",
       "4       old: 5  111 SAVE LIFE HOSPITAL\\nCase No. CASE/HOSP20 P...   \n",
       "5       old: 6  111 SAVE LIFE HOSPITAL\\nCase No. CASE/HOSP20P1...   \n",
       "6       old: 7  Brahmananada Narayana Multispeciality Hospital...   \n",
       "7       old: 8  Brahmananada Narayana Multispeciality Hospital...   \n",
       "8       old: 9  Brahmananada Narayana Multispeciality Hospital...   \n",
       "9      old: 10  Brahmananada Narayana Multispeciality Hospital...   \n",
       "10     old: 11  Brahmananada Narayana Multispeciality Hospital...   \n",
       "11     old: 12  Brahmananada Narayana Multispeciality Hospital...   \n",
       "12     old: 13  DEVKAMAL HOSPITAL AND RESEARCH CENTRE\\nCase No...   \n",
       "13     old: 14  Curie Abdur Razzaque Ansari Cancer Institute\\n...   \n",
       "14     old: 15  Curie Abdur Razzaque Ansari Cancer Institute\\n...   \n",
       "15     old: 16  Curie Abdur Razzaque Ansari Cancer Institute\\n...   \n",
       "16     old: 17  Curie Abdur Razzaque Ansari Cancer Institute\\n...   \n",
       "17     old: 18  Curie Abdur Razzaque Ansari Cancer Institute\\n...   \n",
       "18     old: 19  Brahmananada Narayana Multispeciality Hospital...   \n",
       "19     old: 20  Brahmananada Narayana Multispeciality Hospital...   \n",
       "20     old: 21  Brahmananada Narayana Multispeciality Hospital...   \n",
       "21     old: 22  Brahmananada Narayana Multispeciality Hospital...   \n",
       "22     old: 23  Brahmananada Narayana Multispeciality Hospital...   \n",
       "23     old: 24  Brahmananada Narayana Multispeciality Hospital...   \n",
       "24     old: 25  Brahmananada Narayana Multispeciality Hospital...   \n",
       "25     old: 26  \\nBrahmananada Narayana Multispeciality Hospit...   \n",
       "26     old: 27  \\n111 SAVE LIFE HOSPITAL\\nCase No. CASE/HOSP20...   \n",
       "27     old: 28  \\n111 SAVE LIFE HOSPITAL\\nCase No. CASE/HOSP20...   \n",
       "28     old: 29  \\nRANI HOSPITAL\\nCase No. CASE/HOSP20 P11827/P...   \n",
       "29     old: 30  RANI HOSPITAL\\nCase No. CASE/HOSP20P11827/P218...   \n",
       "..         ...                                                ...   \n",
       "37     old: 38  RANI HOSPITAL\\nCase No. CASE/HOSP20P11827/P391...   \n",
       "38     old: 39  RANI HOSPITAL\\nCase No. CASE/HOSP20 P11827/S18...   \n",
       "39     old: 40  RANI HOSPITAL\\nCase No. CASE/HOSP20P11827/P124...   \n",
       "40     old: 41  SUMMER HOSPITAL & RESEARCH CENTRE PVT LTD.\\nCa...   \n",
       "41     old: 42  SUMMER HOSPITAL & RESEARCH CENTRE PVT LTD.\\nCa...   \n",
       "42     old: 43  SUMMER HOSPITAL & RESEARCH CENTRE PVT LTD.\\nCa...   \n",
       "43     old: 44  SUMMER HOSPITAL & RESEARCH CENTRE PVT LTD.\\nCa...   \n",
       "44     old: 45  SUMMER HOSPITAL & RESEARCH CENTRE PVT LTD.\\nCa...   \n",
       "45     old: 46  SUMMER HOSPITAL & RESEARCH CENTRE PVT LTD.\\nCa...   \n",
       "46     old: 47  SUMMER HOSPITAL & RESEARCH CENTRE PVT LTD.\\nCa...   \n",
       "47     old: 48  SUMMER HOSPITAL & RESEARCH CENTRE PVT LTD.\\nCa...   \n",
       "48     old: 49  SUMMER HOSPITAL & RESEARCH CENTRE PVT LTD.\\nCa...   \n",
       "49     old: 50  SUMMER HOSPITAL & RESEARCH CENTRE PVT LTD.\\nCa...   \n",
       "50     old: 51  SUMMER HOSPITAL & RESEARCH CENTRE PVT LTD.\\nCa...   \n",
       "51     old: 52  SUMMER HOSPITAL & RESEARCH CENTRE PVT LTD.\\nCa...   \n",
       "52     old: 53  SUMMER HOSPITAL & RESEARCH CENTRE PVT LTD.\\nCa...   \n",
       "53     old: 54  Kantilal Gandhi Memorial Hospital\\nCase No. CA...   \n",
       "54     old: 55  DEVKAMAL HOSPITAL AND RESEARCH CENTRE\\nCase No...   \n",
       "55     old: 56  DEVKAMAL HOSPITAL AND RESEARCH CENTRE\\nCase No...   \n",
       "56     old: 57  gaba hospital\\nCase No. CASE/HOSP6 P01559/8684...   \n",
       "57     old: 58  gaba hospital\\nCase No. CASE/HOSP6 P01559/S822...   \n",
       "58     old: 59  Rama Superspeciality and Critical Care Hospita...   \n",
       "59     old: 60  VY INSTITUTE OF MEDICAL SCIENCES PVT. LTD.\\nCa...   \n",
       "60     old: 61  VY INSTITUTE OF MEDICAL SCIENCES PVT. LTD.\\nCa...   \n",
       "61     old: 62  VY INSTITUTE OF MEDICAL SCIENCES PVT. LTD. Cas...   \n",
       "62     old: 63  BHILAI GAYATRI HOSPITAL\\nCase No. CASE/HOSP22 ...   \n",
       "63     old: 64  BHILAI GAYATRI HOSPITAL\\nCase No. CASE/HOSP22 ...   \n",
       "64     old: 65  BHILAI GAYATRI HOSPITAL\\nCase No. CASE/HOSP22P...   \n",
       "65     old: 66  V care children hospital\\nCase No: CASE/HOSP23...   \n",
       "66     old: 67  CAREWELL MULTISPECIALITY HOSPITAL\\nCase No: CA...   \n",
       "\n",
       "                                                    6  \\\n",
       "0   [nkh, multi, speciality, hospital, trauma, cen...   \n",
       "1   [chc, nelashnar, hospital, chhattisgarh, case,...   \n",
       "2   [phc, bhanbeda, hospital, chhattisgarh, case, ...   \n",
       "3   [save, life, hospital, jharkhand, case, case, ...   \n",
       "4   [save, life, hospital, case, case, hosp20, p19...   \n",
       "5   [save, life, hospital, case, case, hosp20p1953...   \n",
       "6   [brahmananada, narayana, multispeciality, hosp...   \n",
       "7   [brahmananada, narayana, multispeciality, hosp...   \n",
       "8   [brahmananada, narayana, multispeciality, hosp...   \n",
       "9   [brahmananada, narayana, multispeciality, hosp...   \n",
       "10  [brahmananada, narayana, multispeciality, hosp...   \n",
       "11  [brahmananada, narayana, multispeciality, hosp...   \n",
       "12  [devkamal, hospital, research, centre, case, c...   \n",
       "13  [sure, blur, razzaque, ansari, cancer, institu...   \n",
       "14  [sure, blur, razzaque, ansari, cancer, institu...   \n",
       "15  [sure, blur, razzaque, ansari, cancer, institu...   \n",
       "16  [sure, blur, razzaque, ansari, cancer, institu...   \n",
       "17  [sure, blur, razzaque, ansari, cancer, institu...   \n",
       "18  [brahmananada, narayana, multispeciality, hosp...   \n",
       "19  [brahmananada, narayana, multispeciality, hosp...   \n",
       "20  [brahmananada, narayana, multispeciality, hosp...   \n",
       "21  [brahmananada, narayana, multispeciality, hosp...   \n",
       "22  [brahmananada, narayana, multispeciality, hosp...   \n",
       "23  [brahmananada, narayana, multispeciality, hosp...   \n",
       "24  [brahmananada, narayana, multispeciality, hosp...   \n",
       "25  [brahmananada, narayana, multispeciality, hosp...   \n",
       "26  [save, life, hospital, case, case, hosp20p1953...   \n",
       "27  [save, life, hospital, case, case, hosp20p1953...   \n",
       "28  [rani, hospital, case, case, hosp20, p11827, p...   \n",
       "29  [rani, hospital, case, case, hosp20p11827, p21...   \n",
       "..                                                ...   \n",
       "37  [rani, hospital, case, case, hosp20p11827, p39...   \n",
       "38  [rani, hospital, case, case, hosp20, p11827, s...   \n",
       "39  [rani, hospital, case, case, hosp20p11827, p12...   \n",
       "40  [summer, hospital, research, centre, pvt, ltd,...   \n",
       "41  [summer, hospital, research, centre, pvt, ltd,...   \n",
       "42  [summer, hospital, research, centre, pvt, ltd,...   \n",
       "43  [summer, hospital, research, centre, pvt, ltd,...   \n",
       "44  [summer, hospital, research, centre, pvt, ltd,...   \n",
       "45  [summer, hospital, research, centre, pvt, ltd,...   \n",
       "46  [summer, hospital, research, centre, pvt, ltd,...   \n",
       "47  [summer, hospital, research, centre, pvt, ltd,...   \n",
       "48  [summer, hospital, research, centre, pvt, ltd,...   \n",
       "49  [summer, hospital, research, centre, pvt, ltd,...   \n",
       "50  [summer, hospital, research, centre, pvt, ltd,...   \n",
       "51  [summer, hospital, research, centre, pvt, ltd,...   \n",
       "52  [summer, hospital, research, centre, pvt, ltd,...   \n",
       "53  [mantilla, gandhi, memorial, hospital, case, c...   \n",
       "54  [devkamal, hospital, research, centre, case, c...   \n",
       "55  [devkamal, hospital, research, centre, case, c...   \n",
       "56  [gave, hospital, case, case, hosp6, p01559, ga...   \n",
       "57  [gave, hospital, case, case, hosp6, p01559, s8...   \n",
       "58  [superspeciality, critical, hospital, case, ca...   \n",
       "59  [institute, medical, science, pvt, ltd, case, ...   \n",
       "60  [institute, medical, science, pvt, ltd, case, ...   \n",
       "61  [institute, medical, science, pvt, ltd, case, ...   \n",
       "62  [bhilai, gayatri, hospital, case, case, hosp22...   \n",
       "63  [bhilai, gayatri, hospital, case, case, hosp22...   \n",
       "64  [bhilai, gayatri, hospital, case, case, hosp22...   \n",
       "65  [v, care, child, hospital, case, case, hosp23p...   \n",
       "66  [carewell, multispeciality, hospital, case, ca...   \n",
       "\n",
       "                                                    7  \\\n",
       "0   nkh multi speciality trauma center chhattisgar...   \n",
       "1   chc nelashnar chhattisgarh hs22018012 p9078 ma...   \n",
       "2   phc bhanbeda chhattisgarh hs22014050 s965 inte...   \n",
       "3   save life hosp20p195371p127634 version hydroce...   \n",
       "4   save life p19537 p128685 version hydrocele sac...   \n",
       "5   save life hosp20p19537 p156478 version hydroce...   \n",
       "6   p23082 p231358 vary saxon carboplatin max cycl...   \n",
       "7   p23082 vary saxon carboplatin max cycle cycle ...   \n",
       "8   p23082 p140333 testisbleomycin etoposide cispl...   \n",
       "9   p23082 s106370 vary saxon carboplatin max cycl...   \n",
       "10  hosp20p23082 p51544 vary saxon carboplatin max...   \n",
       "11  hosp20p23082 p122036 gastro apex per cycle max...   \n",
       "12  devkamal p07056 p25187 sent unilateral includi...   \n",
       "13  sure blur razzaque ansari cancer hosp20g13837 ...   \n",
       "14  sure blur razzaque ansari cancer hosp20g13837 ...   \n",
       "15  sure blur razzaque ansari cancer g13837 s26899...   \n",
       "16  sure blur razzaque ansari cancer g13837 s58792...   \n",
       "17  sure blur razzaque ansari cancer g13837 p15544...   \n",
       "18  p23082 p60174 brahmananda knit rise kamlesh ad...   \n",
       "19  hosp20p23082 p216802 brahmananda ant disc sona...   \n",
       "20  hosp20p23082 p56248 brahmananda knit rise suni...   \n",
       "21  p23082 p258138 nbrahmananda multispecialty ris...   \n",
       "22  hosp20p23082 p81750 brahmananda remark disc so...   \n",
       "23  hosp20p23082 p68133 brahmananda multispecialty...   \n",
       "24  p23082 p261271 brahmananda mutspeciality ad175...   \n",
       "25  hosp20p23082 p209225 nbrahmananda muitispecial...   \n",
       "26  save life hosp20p19537 p127634 save life adity...   \n",
       "27  save life hosp20p19537 p127634 save life adity...   \n",
       "28  p11827 p39162 arm dukhharan charitable front g...   \n",
       "29  hosp20p11827 p218865 form dukhharan charitable...   \n",
       "..                                                ...   \n",
       "37  hosp20p11827 p39199 form dukhharan charitable ...   \n",
       "38  p11827 s180730 form dukhharan charitable front...   \n",
       "39  hosp20p11827 p124787 dukhharan charitable fron...   \n",
       "40  p07845 s280735 summerhospital horil ram rajend...   \n",
       "41  p07845 p273698 summerhospjairo yashwant shahde...   \n",
       "42  p07845 p289048 nabh summerhospitalrc deepak ra...   \n",
       "43  hosp20p07845 p258025 nabh summerhospitalrc pan...   \n",
       "44  p07845 p246903 nabh summerhospitalrc birsa loh...   \n",
       "45  p07845 s216441 summerhospitairc tintus tirkey ...   \n",
       "46  p07845 p146527 quality nabн summerhospitalrc a...   \n",
       "47  p07845 s155336 nabh summerhospitalrc basu khoy...   \n",
       "48  p07845 p167932 saten nabн summerhospitalrc sur...   \n",
       "49  p07845 pati nabh summerhospitalrc vinita kumar...   \n",
       "50  p07845 p133765 safet patien nabh summerhospita...   \n",
       "51  hosp20p07845 s234 quale miny bony nabh summerh...   \n",
       "52  p07845 p161818 nabh summerhospitalrc romila or...   \n",
       "53  mantilla gandhi hosp20p00551 washing visit con...   \n",
       "54  devkamal hosp20p07056 p51722 devkamal arab dev...   \n",
       "55  devkamal hosp20p07056 s30303 habil mini ipo fa...   \n",
       "56  gave hosp6 p01559 gaba yamuna nagar haryana pu...   \n",
       "57  gave hosp6 p01559 s8228 gaba yamuna nagar phon...   \n",
       "58  superspeciality critical hosp6 p00560 s32962 v...   \n",
       "59  science hs2201 r4930 jcr sanju shrihol sejbaha...   \n",
       "60  science hs2201 r9486 shashank barik vill gidha...   \n",
       "61  science hs2201 s21193 icr mslalita sahu kurud ...   \n",
       "62  bhilai gayatri hosp22 p00586 m646960 bhilai ga...   \n",
       "63  bhilai gayatri hosp22 p00586 m283818 bhilai ga...   \n",
       "64  bhilai gayatri hosp22p00586 m315759 bhilai gay...   \n",
       "65  child hosp23p01452 g95352 picket mast yash pra...   \n",
       "66  carewell hosp23p02220 g37256 document carewell...   \n",
       "\n",
       "                                                    8  \\\n",
       "0   [multi, trauma, cerebrovascular, accident, fib...   \n",
       "1                                     [malaria, oral]   \n",
       "2             [fever, therapy, typhoid, fever, fever]   \n",
       "3   [hydrocele, sac, unilateral, schedule, anesthe...   \n",
       "4   [hydrocele, sac, unilateral, schedule, scrotal...   \n",
       "5   [hydrocele, sac, unilateral, schedule, scrotal...   \n",
       "6   [cycle, cycle, allergy, chemotherapy, event, c...   \n",
       "7          [cycle, cycle, node, unit, unit, diabetic]   \n",
       "8   [cell, cycle, cycle, sac, tumor, sac, tumor, c...   \n",
       "9           [cycle, cycle, stage, chemotherapy, anus]   \n",
       "10             [cycle, cycle, chemotherapy, diabetic]   \n",
       "11  [gastro, cycle, cycle, allergy, unit, chemothe...   \n",
       "12  [unilateral, ureter, catheterization, retrogra...   \n",
       "13  [cancer, radiotherapy, radiotherapy, carcinoma...   \n",
       "14  [cancer, reconstruction, microvascular, dissec...   \n",
       "15  [cancer, radiotherapy, radiotherapy, cancer, g...   \n",
       "16  [cancer, radiological, diagnostic, cancer, glo...   \n",
       "17  [cancer, cancer, global, cancer, surgical, lum...   \n",
       "18  [lung, allergy, lung, chemotherapy, event, con...   \n",
       "19               [chemotherapy, event, consciousness]   \n",
       "20               [cell, cell, chemotherapy, diabetic]   \n",
       "21      [allergy, chemotherapy, event, consciousness]   \n",
       "22               [chemotherapy, event, consciousness]   \n",
       "23  [stomach, pancreatic, sol, stomach, pancreatic...   \n",
       "24                             [event, consciousness]   \n",
       "25  [sac, tumor, allergy, tumor, chemotherapy, eve...   \n",
       "26  [eye, schedule, scrotal, scar, anesthetic, ane...   \n",
       "27  [eye, schedule, scrotal, scar, anesthetic, ane...   \n",
       "28  [arm, preterm, respiratory, sepsis, screening,...   \n",
       "29  [preterm, sepsis, respiratory, mechanical, tra...   \n",
       "..                                                ...   \n",
       "37  [preterm, respiratory, sepsis, sodium, potassi...   \n",
       "38  [distress, respiratory, pneumoniae, sepsis, br...   \n",
       "39  [birth, respiratory, distress, respiratory, cl...   \n",
       "40  [hip, non, reactive, hiv, hip, non, reactive, ...   \n",
       "41  [lap, appendicitis, iliac, appendix, adhesion,...   \n",
       "42  [ray, lap, inguinal, hernia, urine, cell, cell...   \n",
       "43  [lap, cholelithiasis, urine, cholelithiasis, m...   \n",
       "44  [lap, lump, hiv, urine, ecg, cystic, lump, ski...   \n",
       "45          [lap, lump, hiv, cell, urine, lump, skin]   \n",
       "46  [lap, appendicitis, inguinal, vomiting, ray, u...   \n",
       "47          [lap, urine, granular, infestation, dune]   \n",
       "48  [lap, hydrocele, hiv, urine, spermatic, cord, ...   \n",
       "49  [lap, hiv, urine, ray, lap, appendix, appendix...   \n",
       "50   [lap, fissure, anal, urine, ecg, stomach, fatty]   \n",
       "51  [bony, tibia, fibula, imaging, intracranial, a...   \n",
       "52  [lap, fissure, hemorrhoid, hiv, urine, skin, h...   \n",
       "53  [consulting, vara, dura, generalized, weakness...   \n",
       "54  [intra, allergic, multiple, multiple, arm, wou...   \n",
       "55  [scar, hip, joint, trochanteric, bone, bearing...   \n",
       "56  [allergy, fistula, stage, fistula, hay, language]   \n",
       "57                      [renal, supervision, fistula]   \n",
       "58  [canal, vara, pallor, uterus, river, aspirin, ...   \n",
       "59  [lateral, tibia, lateral, tibia, deformity, kn...   \n",
       "60  [knee, anterior, cruciate, ligament, knee, kne...   \n",
       "61  [knee, posterior, knee, knee, knee, posterior,...   \n",
       "62            [distal, oriented, aseptic, precaution]   \n",
       "63  [fat, nerve, deformity, oriented, lung, precau...   \n",
       "64  [urology, ureteric, stone, hydronephrosis, kid...   \n",
       "65  [febrile, convulsion, multiple, fever, general...   \n",
       "66     [dura, inguinal, hernia, inguinal, lung, lung]   \n",
       "\n",
       "                                                    9  \n",
       "0   multi trauma cerebrovascular accident fibula h...  \n",
       "1                                        malaria oral  \n",
       "2                   fever therapy typhoid fever fever  \n",
       "3   hydrocele sac unilateral schedule anesthetic g...  \n",
       "4   hydrocele sac unilateral schedule scrotal anes...  \n",
       "5   hydrocele sac unilateral schedule scrotal scro...  \n",
       "6   cycle cycle allergy chemotherapy event conscio...  \n",
       "7                 cycle cycle node unit unit diabetic  \n",
       "8   cell cycle cycle sac tumor sac tumor chemother...  \n",
       "9                 cycle cycle stage chemotherapy anus  \n",
       "10                  cycle cycle chemotherapy diabetic  \n",
       "11  gastro cycle cycle allergy unit chemotherapy s...  \n",
       "12  unilateral ureter catheterization retrograde s...  \n",
       "13  cancer radiotherapy radiotherapy carcinoma alv...  \n",
       "14  cancer reconstruction microvascular dissection...  \n",
       "15  cancer radiotherapy radiotherapy cancer global...  \n",
       "16  cancer radiological diagnostic cancer global c...  \n",
       "17  cancer cancer global cancer surgical lumbar su...  \n",
       "18  lung allergy lung chemotherapy event conscious...  \n",
       "19                   chemotherapy event consciousness  \n",
       "20                    cell cell chemotherapy diabetic  \n",
       "21           allergy chemotherapy event consciousness  \n",
       "22                   chemotherapy event consciousness  \n",
       "23  stomach pancreatic sol stomach pancreatic sol ...  \n",
       "24                                event consciousness  \n",
       "25  sac tumor allergy tumor chemotherapy event con...  \n",
       "26  eye schedule scrotal scar anesthetic anesthesi...  \n",
       "27  eye schedule scrotal scar anesthetic anesthesi...  \n",
       "28  arm preterm respiratory sepsis screening stage...  \n",
       "29  preterm sepsis respiratory mechanical transfus...  \n",
       "..                                                ...  \n",
       "37  preterm respiratory sepsis sodium potassium he...  \n",
       "38  distress respiratory pneumoniae sepsis breathi...  \n",
       "39  birth respiratory distress respiratory cloaca ...  \n",
       "40  hip non reactive hiv hip non reactive crp non ...  \n",
       "41  lap appendicitis iliac appendix adhesion appen...  \n",
       "42  ray lap inguinal hernia urine cell cell ray in...  \n",
       "43  lap cholelithiasis urine cholelithiasis multip...  \n",
       "44  lap lump hiv urine ecg cystic lump skin tissue...  \n",
       "45                  lap lump hiv cell urine lump skin  \n",
       "46  lap appendicitis inguinal vomiting ray urine c...  \n",
       "47                lap urine granular infestation dune  \n",
       "48    lap hydrocele hiv urine spermatic cord inflamed  \n",
       "49  lap hiv urine ray lap appendix appendix skin a...  \n",
       "50           lap fissure anal urine ecg stomach fatty  \n",
       "51  bony tibia fibula imaging intracranial abnorma...  \n",
       "52  lap fissure hemorrhoid hiv urine skin hemorrho...  \n",
       "53  consulting vara dura generalized weakness even...  \n",
       "54  intra allergic multiple multiple arm wound red...  \n",
       "55  scar hip joint trochanteric bone bearing knee hip  \n",
       "56         allergy fistula stage fistula hay language  \n",
       "57                          renal supervision fistula  \n",
       "58  canal vara pallor uterus river aspirin parieta...  \n",
       "59  lateral tibia lateral tibia deformity knee joi...  \n",
       "60  knee anterior cruciate ligament knee knee liga...  \n",
       "61  knee posterior knee knee knee posterior ligame...  \n",
       "62                 distal oriented aseptic precaution  \n",
       "63  fat nerve deformity oriented lung precaution a...  \n",
       "64  urology ureteric stone hydronephrosis kidney u...  \n",
       "65  febrile convulsion multiple fever generalized ...  \n",
       "66            dura inguinal hernia inguinal lung lung  \n",
       "\n",
       "[67 rows x 6 columns]"
      ]
     },
     "execution_count": 69,
     "metadata": {},
     "output_type": "execute_result"
    }
   ],
   "source": [
    "dataset.head(67)"
   ]
  },
  {
   "cell_type": "code",
   "execution_count": null,
   "metadata": {},
   "outputs": [],
   "source": []
  },
  {
   "cell_type": "code",
   "execution_count": null,
   "metadata": {},
   "outputs": [],
   "source": []
  },
  {
   "cell_type": "code",
   "execution_count": null,
   "metadata": {},
   "outputs": [],
   "source": []
  },
  {
   "cell_type": "code",
   "execution_count": null,
   "metadata": {},
   "outputs": [],
   "source": []
  }
 ],
 "metadata": {
  "kernelspec": {
   "display_name": "Python 2",
   "language": "python",
   "name": "python2"
  },
  "language_info": {
   "codemirror_mode": {
    "name": "ipython",
    "version": 2
   },
   "file_extension": ".py",
   "mimetype": "text/x-python",
   "name": "python",
   "nbconvert_exporter": "python",
   "pygments_lexer": "ipython2",
   "version": "2.7.16"
  }
 },
 "nbformat": 4,
 "nbformat_minor": 2
}
