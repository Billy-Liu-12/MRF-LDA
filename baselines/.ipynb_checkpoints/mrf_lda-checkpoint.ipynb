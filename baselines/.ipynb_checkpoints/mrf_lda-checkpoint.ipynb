{
 "cells": [
  {
   "cell_type": "code",
   "execution_count": 1,
   "metadata": {
    "scrolled": false
   },
   "outputs": [],
   "source": [
    "# !pip install numpy num2words nltk pandas Observations gensim\n",
    "# import nltk\n",
    "# nltk.download('stopwords')\n",
    "# nltk.download('punkt')\n",
    "# nltk.download('wordnet')\n",
    "# !pip install -U textblob\n",
    "# !python -m textblob.download_corpora"
   ]
  },
  {
   "cell_type": "code",
   "execution_count": 2,
   "metadata": {},
   "outputs": [],
   "source": [
    "from nltk.corpus import stopwords\n",
    "from nltk.tokenize import word_tokenize\n",
    "from nltk.stem import PorterStemmer\n",
    "from num2words import num2words\n",
    "from collections import Counter\n",
    "from scipy import spatial\n",
    "from sklearn.feature_extraction.text import CountVectorizer\n",
    "from sklearn.decomposition import LatentDirichletAllocation\n",
    "from scipy.special import gammaln\n",
    "from collections import Counter\n",
    "from textblob import TextBlob\n",
    "\n",
    "import imp\n",
    "import lda2\n",
    "import scipy\n",
    "import operator\n",
    "import nltk\n",
    "import os\n",
    "import string\n",
    "import numpy as np\n",
    "import copy\n",
    "import pandas as pd\n",
    "import pickle"
   ]
  },
  {
   "cell_type": "code",
   "execution_count": null,
   "metadata": {},
   "outputs": [],
   "source": []
  },
  {
   "cell_type": "code",
   "execution_count": 3,
   "metadata": {},
   "outputs": [],
   "source": [
    "# embeddings_index = {}\n",
    "# f = open('glove.6B.300d.txt')\n",
    "# for line in f:\n",
    "#     values = line.split()\n",
    "#     word = values[0]\n",
    "#     coefs = np.asarray(values[1:], dtype='float32')\n",
    "#     embeddings_index[word] = coefs\n",
    "# f.close()\n",
    "\n",
    "# print('Found %s word vectors.' % len(embeddings_index))"
   ]
  },
  {
   "cell_type": "code",
   "execution_count": 4,
   "metadata": {},
   "outputs": [],
   "source": [
    "# dataset = pd.read_csv(\"training.1600000.processed.noemoticon.csv\", encoding = \"ISO-8859-1\", header=None)\n",
    "# dataset = dataset.head(1000)\n",
    "# dataset[6] = preprocess(dataset[5])"
   ]
  },
  {
   "cell_type": "code",
   "execution_count": 41,
   "metadata": {},
   "outputs": [],
   "source": [
    "# icd_words = pickle.load(open(\"unique_words.pickle\",'rb'))\n",
    "# stop_words = stopwords.words('english')\n",
    "# lemmatizer = nltk.stem.WordNetLemmatizer()\n",
    "# stemmer = nltk.stem.PorterStemmer()\n",
    "# w_tokenizer = nltk.tokenize.WhitespaceTokenizer()\n",
    "# with open(\"icd10_desc.txt\") as f:\n",
    "#     icd = f.readlines()\n",
    "# icd = pd.DataFrame(icd)\n",
    "# icd.shape\n",
    "# icd[1] = preprocess(icd[0])\n",
    "# unique_words = set()\n",
    "# for i in icd[1].values:\n",
    "#     unique_words = set(i) | unique_words\n",
    "# len(unique_words)\n",
    "# with open(\"unique_words.pickle\", \"wb\") as p:\n",
    "#     pickle.dump(unique_words, p)"
   ]
  },
  {
   "cell_type": "code",
   "execution_count": null,
   "metadata": {},
   "outputs": [],
   "source": []
  },
  {
   "cell_type": "code",
   "execution_count": 32,
   "metadata": {},
   "outputs": [],
   "source": [
    "def convert_numbers(k):\n",
    "    for i in range(len(k)):\n",
    "        try:\n",
    "            num2words(int(k[i]))\n",
    "            k[i] = \" \"\n",
    "        except:\n",
    "            pass\n",
    "    return k\n",
    "\n",
    "def get_cosine(a, b):\n",
    "    return 1 - spatial.distance.cosine(a, b)\n",
    "\n",
    "def preprocess(pd):\n",
    "    pd = pd.str.replace('[{}]'.format('!\"#$%&\\'()*+,-./:;<=>?@[\\\\]^_`{|}~\\n\\t'), ' ')\n",
    "    pd = pd.apply(lambda x: str(TextBlob(x).correct()).decode('utf-8').strip())\n",
    "    pd = pd.str.lower()\n",
    "    pd = pd.str.replace('[{}]'.format('!\"#$%&\\'()*+,-./:;<=>?@[\\\\]^_`{|}~\\n\\t'), ' ')\n",
    "    pd = pd.apply(lambda x: [lemmatizer.lemmatize(w) for w in w_tokenizer.tokenize(x)])\n",
    "    pd = pd.apply(lambda x: convert_numbers(x))\n",
    "    pd = pd.str.join(' ')\n",
    "    pd = pd.str.replace('[{}]'.format(string.punctuation), ' ')\n",
    "    \n",
    "    pd = pd.apply(lambda x: [lemmatizer.lemmatize(w) for w in w_tokenizer.tokenize(x)])    \n",
    "    pd = pd.apply(lambda x: [item for item in x if item not in stop_words])\n",
    "#     pd = pd.apply(lambda x: [stemmer.stem(y) for y in x])\n",
    "    return pd\n",
    "\n",
    "def processReviews(reviews, window=5, MAX_VOCAB_SIZE=1000):\n",
    "    vectorizer = CountVectorizer(analyzer=\"word\",tokenizer=None)\n",
    "    # preprocessor=None,stop_words=\"english\",max_features=MAX_VOCAB_SIZE,max_df=.5,min_df=5)\n",
    "    train_data_features = vectorizer.fit_transform(reviews)\n",
    "    words = vectorizer.get_feature_names()\n",
    "    vocabulary = dict(zip(words,np.arange(len(words))))\n",
    "    inv_vocabulary = dict(zip(np.arange(len(words)),words))\n",
    "    wordOccurenceMatrix = train_data_features.toarray()\n",
    "    return wordOccurenceMatrix, vocabulary, words"
   ]
  },
  {
   "cell_type": "code",
   "execution_count": 6,
   "metadata": {},
   "outputs": [],
   "source": [
    "def coherence_score(X, topic_sentiment_df):\n",
    "    X[X>1] = 1    \n",
    "    totalcnt = len(topic_sentiment_df)\n",
    "    total = 0\n",
    "    for allwords in topic_sentiment_df:\n",
    "        for word1 in allwords:\n",
    "            for word2 in allwords:\n",
    "                if word1 != word2:\n",
    "                    ind1 = vocabulary[word1]\n",
    "                    ind2 = vocabulary[word2]\n",
    "                    total += np.log((np.matmul(X[:,ind1].T, X[:,ind2]) + 1.0)/np.sum(X[:,ind2]))\n",
    "    return total/(2*totalcnt)\n",
    "\n",
    "def kl_score(pk,qk):\n",
    "    return (scipy.stats.entropy(pk,qk)*.5 + scipy.stats.entropy(qk,pk)*.5)\n",
    "\n",
    "def get_hscore(dt_distribution, X):\n",
    "    testlen = X.shape[0]\n",
    "    all_kl_scores = np.zeros((testlen, testlen))\n",
    "    for i in range(testlen-1):\n",
    "        for j in range(i+1,testlen):\n",
    "            score = kl_score(dt_distribution[i],dt_distribution[j])\n",
    "            all_kl_scores[i,j] = score\n",
    "            all_kl_scores[j,i] = score\n",
    "\n",
    "    dt = np.zeros((X.shape[0], k))\n",
    "\n",
    "    for i in range(X.shape[0]):\n",
    "        dt[i, dt_distribution[i].argmax()]=1\n",
    "\n",
    "    intradist = 0\n",
    "    for i in range(k):\n",
    "        cnt = dt[:,i].sum()\n",
    "        tmp = np.outer(dt[:,i],dt[:,i])\n",
    "        tmp = tmp * all_kl_scores\n",
    "        intradist += tmp.sum()*1.0/(cnt*(cnt-1))\n",
    "        print(cnt, tmp.sum(), intradist)\n",
    "    intradist = intradist/k\n",
    "    \n",
    "\n",
    "    interdist = 0\n",
    "    for i in range(k):\n",
    "       for j in range(k):\n",
    "           if i != j:\n",
    "             cnt_i = dt[:,i].sum()\n",
    "             cnt_j = dt[:,j].sum()\n",
    "             tmp = np.outer(dt[:,i], dt[:,j])\n",
    "             tmp = tmp * all_kl_scores\n",
    "             interdist += tmp.sum()*1.0/(cnt_i*cnt_j)\n",
    "    interdist = interdist/(k*(k-1))\n",
    "    return intradist/interdist"
   ]
  },
  {
   "cell_type": "code",
   "execution_count": null,
   "metadata": {},
   "outputs": [],
   "source": []
  },
  {
   "cell_type": "code",
   "execution_count": 6,
   "metadata": {},
   "outputs": [
    {
     "name": "stderr",
     "output_type": "stream",
     "text": [
      "/root/miniconda3/envs/python2/lib/python2.7/site-packages/smart_open/smart_open_lib.py:398: UserWarning: This function is deprecated, use smart_open.open instead. See the migration notes for details: https://github.com/RaRe-Technologies/smart_open/blob/master/README.rst#migrating-to-the-new-open-function\n",
      "  'See the migration notes for details: %s' % _MIGRATION_NOTES_URL\n"
     ]
    }
   ],
   "source": [
    "import gensim\n",
    "embeddings_index = gensim.models.KeyedVectors.load_word2vec_format('pubmed2018_w2v_200D/pubmed2018_w2v_200D.bin', binary=True)"
   ]
  },
  {
   "cell_type": "code",
   "execution_count": 7,
   "metadata": {},
   "outputs": [],
   "source": [
    "stop_words = stopwords.words('english')\n",
    "lemmatizer = nltk.stem.WordNetLemmatizer()\n",
    "stemmer = nltk.stem.PorterStemmer()\n",
    "w_tokenizer = nltk.tokenize.WhitespaceTokenizer()"
   ]
  },
  {
   "cell_type": "code",
   "execution_count": null,
   "metadata": {},
   "outputs": [],
   "source": []
  },
  {
   "cell_type": "code",
   "execution_count": 33,
   "metadata": {},
   "outputs": [],
   "source": [
    "dataset = pd.read_excel(\"pubmed2018_w2v_200D/OCR_Output2.xlsx\", header=None)"
   ]
  },
  {
   "cell_type": "code",
   "execution_count": 12,
   "metadata": {
    "scrolled": true
   },
   "outputs": [
    {
     "data": {
      "text/html": [
       "<div>\n",
       "<style scoped>\n",
       "    .dataframe tbody tr th:only-of-type {\n",
       "        vertical-align: middle;\n",
       "    }\n",
       "\n",
       "    .dataframe tbody tr th {\n",
       "        vertical-align: top;\n",
       "    }\n",
       "\n",
       "    .dataframe thead th {\n",
       "        text-align: right;\n",
       "    }\n",
       "</style>\n",
       "<table border=\"1\" class=\"dataframe\">\n",
       "  <thead>\n",
       "    <tr style=\"text-align: right;\">\n",
       "      <th></th>\n",
       "      <th>0</th>\n",
       "      <th>1</th>\n",
       "    </tr>\n",
       "  </thead>\n",
       "  <tbody>\n",
       "    <tr>\n",
       "      <th>0</th>\n",
       "      <td>1</td>\n",
       "      <td>\\nCASE/HS22011174/R639631\\n080p\\nDR. B.R. AMBE...</td>\n",
       "    </tr>\n",
       "    <tr>\n",
       "      <th>1</th>\n",
       "      <td>2</td>\n",
       "      <td>\\nCASE/HS2201 1174/R634 296\\nonwar Dr. Gharm\\n...</td>\n",
       "    </tr>\n",
       "    <tr>\n",
       "      <th>2</th>\n",
       "      <td>3</td>\n",
       "      <td>\\nCASE/HOSP22P01994/S693472\\nGaurav ram, New O...</td>\n",
       "    </tr>\n",
       "    <tr>\n",
       "      <th>3</th>\n",
       "      <td>4</td>\n",
       "      <td>\\nCASE/HOSP22P01994/S693523\\nDischarge Summary...</td>\n",
       "    </tr>\n",
       "    <tr>\n",
       "      <th>4</th>\n",
       "      <td>5</td>\n",
       "      <td>\\nCASE/HOSP22P01994/M711406\\nDischarge Summary...</td>\n",
       "    </tr>\n",
       "  </tbody>\n",
       "</table>\n",
       "</div>"
      ],
      "text/plain": [
       "   0                                                  1\n",
       "0  1  \\nCASE/HS22011174/R639631\\n080p\\nDR. B.R. AMBE...\n",
       "1  2  \\nCASE/HS2201 1174/R634 296\\nonwar Dr. Gharm\\n...\n",
       "2  3  \\nCASE/HOSP22P01994/S693472\\nGaurav ram, New O...\n",
       "3  4  \\nCASE/HOSP22P01994/S693523\\nDischarge Summary...\n",
       "4  5  \\nCASE/HOSP22P01994/M711406\\nDischarge Summary..."
      ]
     },
     "execution_count": 12,
     "metadata": {},
     "output_type": "execute_result"
    }
   ],
   "source": [
    "dataset.head()"
   ]
  },
  {
   "cell_type": "code",
   "execution_count": 36,
   "metadata": {},
   "outputs": [
    {
     "data": {
      "text/plain": [
       "(152, 3)"
      ]
     },
     "execution_count": 36,
     "metadata": {},
     "output_type": "execute_result"
    }
   ],
   "source": [
    "dataset.shape"
   ]
  },
  {
   "cell_type": "code",
   "execution_count": 37,
   "metadata": {},
   "outputs": [
    {
     "name": "stdout",
     "output_type": "stream",
     "text": [
      "CPU times: user 21min 20s, sys: 236 ms, total: 21min 20s\n",
      "Wall time: 21min 20s\n"
     ]
    }
   ],
   "source": [
    "%%time\n",
    "dataset[6] = preprocess(dataset[1])"
   ]
  },
  {
   "cell_type": "code",
   "execution_count": null,
   "metadata": {},
   "outputs": [],
   "source": [
    "# df = {}\n",
    "# for i in dataset[6]:\n",
    "#     for word in Counter(i).keys():\n",
    "#         try:\n",
    "#             df[word] += 1\n",
    "#         except:\n",
    "#             df[word] = 1"
   ]
  },
  {
   "cell_type": "code",
   "execution_count": null,
   "metadata": {},
   "outputs": [],
   "source": [
    "# sorted_x = sorted(df.items(), key=operator.itemgetter(1), reverse=True)"
   ]
  },
  {
   "cell_type": "code",
   "execution_count": 39,
   "metadata": {},
   "outputs": [],
   "source": [
    "# high_df = [i[0] for i in sorted_x[:200]]\n",
    "dataset[7] = dataset[6].apply(lambda x: \" \".join(x))"
   ]
  },
  {
   "cell_type": "code",
   "execution_count": null,
   "metadata": {},
   "outputs": [],
   "source": [
    "# def deep_clean(data):\n",
    "#     text = \"\"\n",
    "#     for i in data.split(\" \"):\n",
    "#         if i not in high_df and len(i)>2:\n",
    "#             text += i +\" \"\n",
    "#         else:\n",
    "#             pass\n",
    "#     return text.rstrip()"
   ]
  },
  {
   "cell_type": "code",
   "execution_count": null,
   "metadata": {},
   "outputs": [],
   "source": [
    "# dataset[7] = dataset[7].apply(lambda x: deep_clean(x))"
   ]
  },
  {
   "cell_type": "code",
   "execution_count": 40,
   "metadata": {},
   "outputs": [],
   "source": [
    "dataset.to_pickle(\"dataset_cleaned_autocorrected2\")"
   ]
  },
  {
   "cell_type": "code",
   "execution_count": null,
   "metadata": {},
   "outputs": [],
   "source": []
  },
  {
   "cell_type": "code",
   "execution_count": 8,
   "metadata": {},
   "outputs": [],
   "source": [
    "dataset = pd.read_pickle(\"dataset_cleaned_autocorrected\")"
   ]
  },
  {
   "cell_type": "code",
   "execution_count": 9,
   "metadata": {},
   "outputs": [],
   "source": [
    "matrix, vocabulary, words = processReviews(dataset[7].values)"
   ]
  },
  {
   "cell_type": "code",
   "execution_count": 10,
   "metadata": {
    "scrolled": true
   },
   "outputs": [
    {
     "name": "stdout",
     "output_type": "stream",
     "text": [
      "0\n",
      "10\n",
      "20\n",
      "30\n",
      "40\n",
      "50\n",
      "60\n",
      "70\n",
      "80\n",
      "90\n"
     ]
    }
   ],
   "source": [
    "docs_edges = []\n",
    "count = 0\n",
    "ignored = []\n",
    "taken = []\n",
    "for idx, doc in enumerate(dataset[6].values):\n",
    "    edges = []\n",
    "    for i in doc:\n",
    "        for j in doc:\n",
    "            if i != j:\n",
    "                try:\n",
    "                    a = embeddings_index[i]\n",
    "                    b = embeddings_index[j]\n",
    "                    if get_cosine(a, b) > 0.5:\n",
    "                        edges.append((vocabulary[i], vocabulary[j]))\n",
    "                except:\n",
    "                    try:\n",
    "                        embeddings_index[i]\n",
    "                        taken.append(i)\n",
    "                    except:\n",
    "                        ignored.append(i)\n",
    "                    try:\n",
    "                        embeddings_index[j]\n",
    "                    except:\n",
    "                        ignored.append(j)\n",
    "                        taken.append(j)\n",
    "                    pass\n",
    "    docs_edges.append(edges)\n",
    "    \n",
    "    if idx % 10 == 0:\n",
    "        print(idx)"
   ]
  },
  {
   "cell_type": "code",
   "execution_count": 11,
   "metadata": {},
   "outputs": [],
   "source": [
    "edge_dict = {}\n",
    "for i in docs_edges:\n",
    "    for j in i:\n",
    "        try:\n",
    "            edge_dict[j[0]] += [j[1]]\n",
    "        except:\n",
    "            edge_dict[j[0]] = [j[1]]"
   ]
  },
  {
   "cell_type": "code",
   "execution_count": null,
   "metadata": {},
   "outputs": [],
   "source": []
  },
  {
   "cell_type": "code",
   "execution_count": 12,
   "metadata": {},
   "outputs": [],
   "source": [
    "lambda_param = 0.8\n",
    "k = N_TOPICS = 10"
   ]
  },
  {
   "cell_type": "code",
   "execution_count": 13,
   "metadata": {},
   "outputs": [],
   "source": [
    "imp.reload(lda2)\n",
    "sampler = lda2.LdaSampler(n_topics=N_TOPICS, lambda_param=lambda_param)"
   ]
  },
  {
   "cell_type": "code",
   "execution_count": 14,
   "metadata": {
    "scrolled": true
   },
   "outputs": [
    {
     "name": "stdout",
     "output_type": "stream",
     "text": [
      "Iteration 0\n",
      "Likelihood -87031.0275215577\n",
      "[u'allergy', u'rca', u'stab', u'distal', u'radiotherapy']\n",
      "[u'urine', u'booty', u'registrar', u'tetriflex', u'size']\n",
      "[u'angioplasty', u'met', u'drop', u'of', u'sure']\n",
      "[u'mild', u'rca', u'gpi', u'exam', u'knee']\n",
      "[u'lap', u'grief', u'wnl', u'stage', u'lower']\n",
      "[u'latent', u'ranihospital', u'goenka', u'using', u'form']\n",
      "[u'filling', u'singh', u'low', u'wander', u'of']\n",
      "[u'changing', u'cardiologist', u'per', u'blood', u'cag']\n",
      "[u'rca', u'private', u'sent', u'coronary', u'piyush']\n",
      "[u'carcinoma', u'never', u'of', u'tablet', u'life']\n",
      "Iteration 1\n",
      "Likelihood -83770.80985319415\n",
      "[u'sudden', u'cell', u'stab', u'of', u'radiotherapy']\n",
      "[u'registrar', u'still', u'angiography', u'tetriflex', u'carewell']\n",
      "[u'ansari', u'feed', u'oncology', u'of', u'call']\n",
      "[u'proximal', u'rca', u'knee', u'disease', u'mild']\n",
      "[u'vital', u'ceftriaxone', u'lower', u'mmhg', u'lap']\n",
      "[u'form', u'of', u'ranihospital', u'lcx', u'using']\n",
      "[u'due', u'wander', u'multiple', u'rode', u'wound']\n",
      "[u'per', u'marital', u'blood', u'house', u'cag']\n",
      "[u'coronary', u'piyush', u'tablet', u'sent', u'rca']\n",
      "[u'local', u'coronary', u'life', u'carcinoma', u'cardiologist']\n",
      "Iteration 2\n",
      "Likelihood -80898.53207739082\n",
      "[u'stab', u'sudden', u'radiotherapy', u'cell', u'of']\n",
      "[u'booty', u'size', u'tetriflex', u'artery', u'rca']\n",
      "[u'oncology', u'brahmananda', u'feed', u'neck', u'call']\n",
      "[u'gpi', u'governor', u'exam', u'count', u'knee']\n",
      "[u'lower', u'carewell', u'mmhg', u'lap', u'vital']\n",
      "[u'ranihospital', u'cmh', u'using', u'coronary', u'goenka']\n",
      "[u'due', u'emeset', u'ayushman', u'multiple', u'wound']\n",
      "[u'house', u'respiratory', u'junior', u'blood', u'cag']\n",
      "[u'event', u'sent', u'tablet', u'of', u'disease']\n",
      "[u'angioplasty', u'carcinoma', u'piyush', u'cardiologist', u'coronary']\n",
      "Iteration 3\n",
      "Likelihood -78430.60081125061\n",
      "[u'chemotherapy', u'allergy', u'of', u'radiotherapy', u'vitals']\n",
      "[u'remark', u'tetriflex', u'artery', u'dominant', u'angiography']\n",
      "[u'call', u'cycle', u'cancer', u'brahmananda', u'baby']\n",
      "[u'chirayu', u'count', u'company', u'private', u'mild']\n",
      "[u'mmhg', u'lap', u'surgical', u'wnl', u'rajiv']\n",
      "[u'using', u'fever', u'charge', u'integrity', u'goenka']\n",
      "[u'due', u'multiple', u'rode', u'wound', u'appointment']\n",
      "[u'sepsis', u'cag', u'blood', u'registrar', u'ranihospital']\n",
      "[u'p07845', u'urine', u'of', u'tablet', u'rca']\n",
      "[u'lcx', u'angioplasty', u'piyush', u'coronary', u'cardiologist']\n",
      "Iteration 4\n",
      "Likelihood -76447.99179560252\n",
      "[u'gargle', u'ram', u'radiotherapy', u'of', u'vitals']\n",
      "[u'tetriflex', u'of', u'coronary', u'artery', u'angiography']\n",
      "[u'cancer', u'cycle', u'sudden', u'baby', u'brahmananda']\n",
      "[u'charitable', u'cell', u'private', u'count', u'mild']\n",
      "[u'surgical', u'mmhg', u'lap', u'wnl', u'rajiv']\n",
      "[u'give', u'integrity', u'presenting', u'cag', u'goenka']\n",
      "[u'creating', u'multiple', u'rode', u'call', u'appointment']\n",
      "[u'rajesh', u'sepsis', u'junior', u'registrar', u'ranihospital']\n",
      "[u'proveron', u'dlc', u'sent', u'urine', u'rca']\n",
      "[u'visit', u'lcx', u'piyush', u'cardiologist', u'proximal']\n",
      "Iteration 5\n",
      "Likelihood -74649.49543896149\n",
      "[u'gargle', u'radiotherapy', u'wander', u'amit', u'carewell']\n",
      "[u'tetriflex', u'artery', u'lcx', u'coronary', u'angiography']\n",
      "[u'carcinoma', u'tablet', u'call', u'sudden', u'brahmananda']\n",
      "[u'count', u'cell', u'disease', u'charitable', u'mild']\n",
      "[u'mmhg', u'hbsag', u'lap', u'wnl', u'rajiv']\n",
      "[u'remark', u'cag', u'presenting', u'life', u'goenka']\n",
      "[u'local', u'multiple', u'singh', u'appointment', u'science']\n",
      "[u'rajesh', u'junior', u'sepsis', u'registrar', u'ranihospital']\n",
      "[u'urine', u'state', u'calculus', u'dlc', u'disease']\n",
      "[u'visit', u'angioplasty', u'piyush', u'cardiologist', u'proximal']\n",
      "Iteration 6\n",
      "Likelihood -73273.22607989234\n",
      "[u'con', u'gargle', u'amit', u'wander', u'carewell']\n",
      "[u'blur', u'artery', u'size', u'tetriflex', u'angiography']\n",
      "[u'neck', u'sudden', u'brahmananda', u'tablet', u'carcinoma']\n",
      "[u'disease', u'cell', u'company', u'count', u'mild']\n",
      "[u'hbsag', u'mmhg', u'lap', u'wnl', u'rajiv']\n",
      "[u'adityapur', u'save', u'presenting', u'life', u'goenka']\n",
      "[u'physical', u'multiple', u'cag', u'appointment', u'science']\n",
      "[u'junior', u'sepsis', u'registrar', u'respiratory', u'ranihospital']\n",
      "[u'1x2', u'state', u'calculus', u'dlc', u'rca']\n",
      "[u'angioplasty', u'gpi', u'piyush', u'cardiologist', u'proximal']\n",
      "Iteration 7\n",
      "Likelihood -72005.90461697074\n",
      "[u'gargle', u'surgical', u'amit', u'wander', u'carewell']\n",
      "[u'fracture', u'artery', u'size', u'tetriflex', u'angiography']\n",
      "[u'cancer', u'brahmananda', u'sudden', u'carcinoma', u'tablet']\n",
      "[u'difficulty', u'ranchi', u'cell', u'mild', u'count']\n",
      "[u'p07845', u'hbsag', u'lap', u'wnl', u'rajiv']\n",
      "[u'give', u'adityapur', u'presenting', u'life', u'save']\n",
      "[u'creating', u'rishikesh', u'drug', u'cag', u'science']\n",
      "[u'blood', u'sepsis', u'registrar', u'respiratory', u'ranihospital']\n",
      "[u'gwm', u'1x2', u'calculus', u'dlc', u'disease']\n",
      "[u'disease', u'lcx', u'piyush', u'cardiologist', u'proximal']\n",
      "Iteration 8\n",
      "Likelihood -70737.2921196592\n",
      "[u'gargle', u'amit', u'surgical', u'wander', u'carewell']\n",
      "[u'dysfunction', u'size', u'artery', u'tetriflex', u'angiography']\n",
      "[u'cancer', u'brahmananda', u'call', u'sudden', u'carcinoma']\n",
      "[u'due', u'saxena', u'platelet', u'cell', u'count']\n",
      "[u'hbsag', u'mmhg', u'lap', u'wnl', u'rajiv']\n",
      "[u'valve', u'remark', u'adityapur', u'save', u'life']\n",
      "[u'rishikesh', u'stab', u'vital', u'cag', u'science']\n",
      "[u'sepsis', u'junior', u'registrar', u'respiratory', u'ranihospital']\n",
      "[u'renal', u'gwm', u'appendix', u'1x2', u'calculus']\n",
      "[u'lcx', u'piyush', u'cardiologist', u'disease', u'proximal']\n",
      "Iteration 9\n",
      "Likelihood -69867.26847125505\n",
      "[u'gargle', u'amit', u'surgical', u'wander', u'carewell']\n",
      "[u'revascularization', u'hip', u'size', u'tetriflex', u'mild']\n",
      "[u'cancer', u'brahmananda', u'carcinoma', u'sudden', u'tablet']\n",
      "[u'saxena', u'vital', u'due', u'cell', u'count']\n",
      "[u'mmhg', u'hbsag', u'lap', u'wnl', u'rajiv']\n",
      "[u'valve', u'adityapur', u'presenting', u'save', u'life']\n",
      "[u'physical', u'rishikesh', u'stab', u'cag', u'science']\n",
      "[u'junior', u'rajesh', u'registrar', u'respiratory', u'ranihospital']\n",
      "[u'sent', u'devkamal', u'appendix', u'cap', u'1x2']\n",
      "[u'piyush', u'cardiologist', u'disease', u'proximal', u'rca']\n",
      "Iteration 10\n",
      "Likelihood -69390.75957241895\n",
      "[u'lung', u'amit', u'surgical', u'wander', u'carewell']\n",
      "[u'revascularization', u'echo', u'size', u'tetriflex', u'mild']\n",
      "[u'cancer', u'brahmananda', u'carcinoma', u'sudden', u'tablet']\n",
      "[u'saxena', u'shone', u'platelet', u'cell', u'count']\n",
      "[u'mmhg', u'hbsag', u'lap', u'wnl', u'rajiv']\n",
      "[u'valve', u'adityapur', u'presenting', u'save', u'life']\n",
      "[u'vital', u'rishikesh', u'stab', u'science', u'cag']\n",
      "[u'sepsis', u'baby', u'registrar', u'respiratory', u'ranihospital']\n",
      "[u'devkamal', u'gwm', u'past', u'renal', u'1x2']\n",
      "[u'lcx', u'cardiologist', u'proximal', u'disease', u'rca']\n",
      "Iteration 11\n",
      "Likelihood -68968.23239956786\n",
      "[u'lung', u'amit', u'surgical', u'wander', u'carewell']\n",
      "[u'revascularization', u'plague', u'size', u'tetriflex', u'mild']\n",
      "[u'cancer', u'brahmananda', u'tablet', u'carcinoma', u'sudden']\n",
      "[u'platelet', u'saxena', u'cell', u'vital', u'count']\n",
      "[u'mmhg', u'hbsag', u'lap', u'wnl', u'rajiv']\n",
      "[u'new', u'presenting', u'adityapur', u'life', u'save']\n",
      "[u'physical', u'rishikesh', u'stab', u'science', u'cag']\n",
      "[u'junior', u'registrar', u'respiratory', u'baby', u'ranihospital']\n",
      "[u'devkamal', u'past', u'gwm', u'renal', u'1x2']\n",
      "[u'piyush', u'cardiologist', u'proximal', u'disease', u'rca']\n",
      "Iteration 12\n",
      "Likelihood -68293.77172545607\n",
      "[u'lung', u'amit', u'surgical', u'wander', u'carewell']\n",
      "[u'mild', u'plague', u'revascularization', u'echo', u'size']\n",
      "[u'cancer', u'brahmananda', u'tablet', u'sudden', u'carcinoma']\n",
      "[u'shone', u'blood', u'vital', u'cell', u'count']\n",
      "[u'proveron', u'mmhg', u'lap', u'wnl', u'rajiv']\n",
      "[u'valve', u'adityapur', u'save', u'life', u'presenting']\n",
      "[u'physical', u'science', u'rishikesh', u'stab', u'cag']\n",
      "[u'feed', u'registrar', u'respiratory', u'baby', u'ranihospital']\n",
      "[u'gwm', u'cap', u'devkamal', u'1x2', u'renal']\n",
      "[u'cardiologist', u'lcx', u'proximal', u'disease', u'rca']\n",
      "Iteration 13\n",
      "Likelihood -67878.24782626732\n",
      "[u'lung', u'surgical', u'visit', u'wander', u'carewell']\n",
      "[u'myocardial', u'revascularization', u'fracture', u'echo', u'size']\n",
      "[u'cancer', u'brahmananda', u'sudden', u'tablet', u'carcinoma']\n",
      "[u'stomach', u'blood', u'count', u'vital', u'cell']\n",
      "[u'hbsag', u'mmhg', u'lap', u'wnl', u'rajiv']\n",
      "[u'valve', u'adityapur', u'presenting', u'save', u'life']\n",
      "[u'stab', u'vital', u'rishikesh', u'science', u'cag']\n",
      "[u'junior', u'registrar', u'respiratory', u'baby', u'ranihospital']\n",
      "[u'past', u'gautam', u'ayushman', u'devkamal', u'renal']\n",
      "[u'lcx', u'cardiologist', u'proximal', u'disease', u'rca']\n"
     ]
    },
    {
     "name": "stdout",
     "output_type": "stream",
     "text": [
      "Iteration 14\n",
      "Likelihood -67390.14440085758\n",
      "[u'cmh', u'surgical', u'visit', u'wander', u'carewell']\n",
      "[u'grafting', u'echo', u'revascularization', u'fracture', u'size']\n",
      "[u'brahmananda', u'cancer', u'tablet', u'sudden', u'carcinoma']\n",
      "[u'science', u'vital', u'count', u'blood', u'cell']\n",
      "[u'proveron', u'mmhg', u'lap', u'wnl', u'rajiv']\n",
      "[u'new', u'adityapur', u'presenting', u'life', u'save']\n",
      "[u'drug', u'physical', u'science', u'rishikesh', u'cag']\n",
      "[u'junior', u'registrar', u'respiratory', u'baby', u'ranihospital']\n",
      "[u'gautam', u'past', u'devkamal', u'renal', u'calculus']\n",
      "[u'lcx', u'cardiologist', u'proximal', u'disease', u'rca']\n",
      "Iteration 15\n",
      "Likelihood -67223.25443225447\n",
      "[u'surgical', u'cmh', u'visit', u'wander', u'carewell']\n",
      "[u'revascularization', u'echo', u'fracture', u'hip', u'size']\n",
      "[u'cancer', u'brahmananda', u'tablet', u'carcinoma', u'sudden']\n",
      "[u'saxena', u'vital', u'cell', u'blood', u'count']\n",
      "[u'proveron', u'mmhg', u'lap', u'wnl', u'rajiv']\n",
      "[u'appointment', u'adityapur', u'presenting', u'save', u'life']\n",
      "[u'drug', u'physical', u'rishikesh', u'science', u'cag']\n",
      "[u'feed', u'registrar', u'respiratory', u'baby', u'ranihospital']\n",
      "[u'gautam', u'past', u'devkamal', u'renal', u'calculus']\n",
      "[u'cardiologist', u'lcx', u'proximal', u'disease', u'rca']\n",
      "Iteration 16\n",
      "Likelihood -66983.98077153544\n",
      "[u'surgical', u'cmh', u'visit', u'wander', u'carewell']\n",
      "[u'svg', u'grafting', u'revascularization', u'fracture', u'hip']\n",
      "[u'cancer', u'brahmananda', u'tablet', u'sudden', u'carcinoma']\n",
      "[u'science', u'vital', u'cell', u'blood', u'count']\n",
      "[u'p07845', u'mmhg', u'lap', u'wnl', u'rajiv']\n",
      "[u'valve', u'adityapur', u'life', u'presenting', u'save']\n",
      "[u'absent', u'physical', u'science', u'rishikesh', u'cag']\n",
      "[u'rajesh', u'registrar', u'respiratory', u'baby', u'ranihospital']\n",
      "[u'past', u'gautam', u'devkamal', u'calculus', u'renal']\n",
      "[u'lcx', u'cardiologist', u'proximal', u'disease', u'rca']\n",
      "Iteration 17\n",
      "Likelihood -66836.67956219205\n",
      "[u'surgical', u'cmh', u'visit', u'wander', u'carewell']\n",
      "[u'echo', u'grafting', u'revascularization', u'hip', u'fracture']\n",
      "[u'cancer', u'brahmananda', u'sudden', u'tablet', u'carcinoma']\n",
      "[u'due', u'vital', u'blood', u'cell', u'count']\n",
      "[u'hbsag', u'mmhg', u'wnl', u'lap', u'rajiv']\n",
      "[u'valve', u'adityapur', u'life', u'save', u'presenting']\n",
      "[u'rode', u'absent', u'science', u'rishikesh', u'cag']\n",
      "[u'rajesh', u'registrar', u'respiratory', u'baby', u'ranihospital']\n",
      "[u'ayushman', u'gautam', u'calculus', u'devkamal', u'renal']\n",
      "[u'cardiologist', u'lcx', u'proximal', u'disease', u'rca']\n",
      "Iteration 18\n",
      "Likelihood -66610.4297806842\n",
      "[u'surgical', u'cmh', u'visit', u'wander', u'carewell']\n",
      "[u'aoe', u'clavum', u'grafting', u'hip', u'fracture']\n",
      "[u'cancer', u'brahmananda', u'tablet', u'carcinoma', u'sudden']\n",
      "[u'due', u'vital', u'blood', u'cell', u'count']\n",
      "[u'mmhg', u'proveron', u'lap', u'wnl', u'rajiv']\n",
      "[u'new', u'adityapur', u'presenting', u'save', u'life']\n",
      "[u'rode', u'absent', u'rishikesh', u'science', u'cag']\n",
      "[u'junior', u'registrar', u'respiratory', u'baby', u'ranihospital']\n",
      "[u'gautam', u'past', u'calculus', u'devkamal', u'renal']\n",
      "[u'lcx', u'cardiologist', u'proximal', u'disease', u'rca']\n",
      "Iteration 19\n",
      "Likelihood -66561.65309879805\n",
      "[u'surgical', u'visit', u'cmh', u'wander', u'carewell']\n",
      "[u'wire', u'glycomet', u'grafting', u'hip', u'fracture']\n",
      "[u'cancer', u'brahmananda', u'carcinoma', u'sudden', u'tablet']\n",
      "[u'saxena', u'vital', u'blood', u'cell', u'count']\n",
      "[u'hbsag', u'wnl', u'mmhg', u'lap', u'rajiv']\n",
      "[u'valve', u'adityapur', u'life', u'save', u'presenting']\n",
      "[u'rode', u'absent', u'rishikesh', u'science', u'cag']\n",
      "[u'registrar', u'rajesh', u'respiratory', u'baby', u'ranihospital']\n",
      "[u'calculus', u'urology', u'diet', u'devkamal', u'renal']\n",
      "[u'cardiologist', u'lcx', u'proximal', u'disease', u'rca']\n",
      "Iteration 20\n",
      "Likelihood -66458.17056345294\n",
      "[u'surgical', u'cmh', u'visit', u'wander', u'carewell']\n",
      "[u'vessel', u'non', u'clavum', u'grafting', u'hip']\n",
      "[u'cancer', u'brahmananda', u'carcinoma', u'sudden', u'tablet']\n",
      "[u'blood', u'vital', u'cell', u'due', u'count']\n",
      "[u'proveron', u'p07845', u'wnl', u'lap', u'rajiv']\n",
      "[u'new', u'adityapur', u'life', u'save', u'presenting']\n",
      "[u'absent', u'vital', u'rishikesh', u'science', u'cag']\n",
      "[u'junior', u'registrar', u'respiratory', u'baby', u'ranihospital']\n",
      "[u'urology', u'devkamal', u'diet', u'calculus', u'renal']\n",
      "[u'cardiologist', u'lcx', u'proximal', u'disease', u'rca']\n",
      "Iteration 21\n",
      "Likelihood -66431.41910879113\n",
      "[u'cmh', u'surgical', u'visit', u'wander', u'carewell']\n",
      "[u'cemented', u'aoe', u'vessel', u'grafting', u'wire']\n",
      "[u'cancer', u'brahmananda', u'tablet', u'sudden', u'carcinoma']\n",
      "[u'blood', u'due', u'vital', u'cell', u'count']\n",
      "[u'mmhg', u'proveron', u'wnl', u'lap', u'rajiv']\n",
      "[u'valve', u'adityapur', u'save', u'life', u'presenting']\n",
      "[u'rode', u'vital', u'science', u'rishikesh', u'cag']\n",
      "[u'junior', u'registrar', u'respiratory', u'baby', u'ranihospital']\n",
      "[u'past', u'diet', u'devkamal', u'calculus', u'renal']\n",
      "[u'lcx', u'cardiologist', u'proximal', u'disease', u'rca']\n",
      "Iteration 22\n",
      "Likelihood -66578.51363180084\n",
      "[u'cmh', u'surgical', u'visit', u'wander', u'carewell']\n",
      "[u'cemented', u'vessel', u'grafting', u'wire', u'hip']\n",
      "[u'cancer', u'brahmananda', u'sudden', u'tablet', u'carcinoma']\n",
      "[u'stomach', u'vital', u'blood', u'cell', u'count']\n",
      "[u'proveron', u'mmhg', u'wnl', u'lap', u'rajiv']\n",
      "[u'new', u'adityapur', u'life', u'save', u'presenting']\n",
      "[u'absent', u'vital', u'science', u'rishikesh', u'cag']\n",
      "[u'registrar', u'rajesh', u'respiratory', u'baby', u'ranihospital']\n",
      "[u'diet', u'gautam', u'devkamal', u'calculus', u'renal']\n",
      "[u'cardiologist', u'lcx', u'proximal', u'disease', u'rca']\n",
      "Iteration 23\n",
      "Likelihood -66347.36146863947\n",
      "[u'cmh', u'surgical', u'visit', u'wander', u'carewell']\n",
      "[u'clavum', u'vessel', u'grafting', u'wire', u'hip']\n",
      "[u'cancer', u'brahmananda', u'sudden', u'carcinoma', u'tablet']\n",
      "[u'reason', u'blood', u'cell', u'due', u'count']\n",
      "[u'dlc', u'wnl', u'mmhg', u'lap', u'rajiv']\n",
      "[u'adityapur', u'station', u'life', u'save', u'presenting']\n",
      "[u'vital', u'creating', u'science', u'rishikesh', u'cag']\n",
      "[u'rajesh', u'respiratory', u'registrar', u'baby', u'ranihospital']\n",
      "[u'diet', u'urology', u'calculus', u'devkamal', u'renal']\n",
      "[u'cardiologist', u'lcx', u'proximal', u'disease', u'rca']\n",
      "Iteration 24\n",
      "Likelihood -66354.67221170271\n",
      "[u'surgical', u'cmh', u'visit', u'wander', u'carewell']\n",
      "[u'svg', u'wire', u'glycomet', u'size', u'fracture']\n",
      "[u'cancer', u'brahmananda', u'sudden', u'tablet', u'carcinoma']\n",
      "[u'due', u'vital', u'blood', u'cell', u'count']\n",
      "[u'hbsag', u'mmhg', u'wnl', u'lap', u'rajiv']\n",
      "[u'valve', u'adityapur', u'life', u'save', u'presenting']\n",
      "[u'drug', u'creating', u'rishikesh', u'science', u'cag']\n",
      "[u'junior', u'registrar', u'respiratory', u'baby', u'ranihospital']\n",
      "[u'ayushman', u'gautam', u'devkamal', u'calculus', u'renal']\n",
      "[u'lcx', u'cardiologist', u'proximal', u'disease', u'rca']\n",
      "Iteration 25\n",
      "Likelihood -66377.12917070165\n",
      "[u'cmh', u'surgical', u'visit', u'wander', u'carewell']\n",
      "[u'glycomet', u'clavum', u'vessel', u'avatar', u'svg']\n",
      "[u'cancer', u'brahmananda', u'call', u'carcinoma', u'tablet']\n",
      "[u'reason', u'due', u'blood', u'cell', u'count']\n",
      "[u'proveron', u'p07845', u'wnl', u'lap', u'rajiv']\n",
      "[u'new', u'adityapur', u'save', u'presenting', u'life']\n",
      "[u'absent', u'creating', u'science', u'rishikesh', u'cag']\n",
      "[u'junior', u'registrar', u'respiratory', u'baby', u'ranihospital']\n",
      "[u'mch', u'gautam', u'calculus', u'devkamal', u'renal']\n",
      "[u'lcx', u'cardiologist', u'proximal', u'disease', u'rca']\n",
      "Iteration 26\n",
      "Likelihood -66322.55139694647\n",
      "[u'surgical', u'cmh', u'visit', u'wander', u'carewell']\n",
      "[u'fracture', u'cemented', u'svg', u'hip', u'echo']\n",
      "[u'cancer', u'brahmananda', u'sudden', u'tablet', u'carcinoma']\n",
      "[u'science', u'due', u'cell', u'blood', u'count']\n",
      "[u'hbsag', u'proveron', u'wnl', u'lap', u'rajiv']\n",
      "[u'valve', u'presenting', u'adityapur', u'life', u'save']\n",
      "[u'creating', u'vital', u'science', u'rishikesh', u'cag']\n",
      "[u'junior', u'registrar', u'respiratory', u'baby', u'ranihospital']\n",
      "[u'gautam', u'ayushman', u'devkamal', u'calculus', u'renal']\n",
      "[u'cardiologist', u'lcx', u'proximal', u'disease', u'rca']\n",
      "Iteration 27\n",
      "Likelihood -66448.2284923427\n",
      "[u'surgical', u'cmh', u'visit', u'wander', u'carewell']\n",
      "[u'svg', u'fracture', u'avatar', u'hip', u'cemented']\n",
      "[u'cancer', u'brahmananda', u'sudden', u'tablet', u'carcinoma']\n",
      "[u'vital', u'cell', u'count', u'blood', u'due']\n",
      "[u'proveron', u'hbsag', u'wnl', u'lap', u'rajiv']\n",
      "[u'station', u'presenting', u'adityapur', u'life', u'save']\n",
      "[u'rode', u'absent', u'rishikesh', u'science', u'cag']\n",
      "[u'junior', u'registrar', u'respiratory', u'baby', u'ranihospital']\n",
      "[u'renal', u'gautam', u'past', u'devkamal', u'calculus']\n",
      "[u'cardiologist', u'lcx', u'proximal', u'disease', u'rca']\n"
     ]
    },
    {
     "name": "stdout",
     "output_type": "stream",
     "text": [
      "Iteration 28\n",
      "Likelihood -66349.89919791123\n",
      "[u'surgical', u'cmh', u'visit', u'wander', u'carewell']\n",
      "[u'orthopaedic', u'fracture', u'non', u'avatar', u'hip']\n",
      "[u'cancer', u'brahmananda', u'carcinoma', u'tablet', u'sudden']\n",
      "[u'of', u'count', u'due', u'blood', u'cell']\n",
      "[u'p07845', u'proveron', u'wnl', u'lap', u'rajiv']\n",
      "[u'valve', u'presenting', u'adityapur', u'save', u'life']\n",
      "[u'vital', u'absent', u'science', u'rishikesh', u'cag']\n",
      "[u'junior', u'registrar', u'respiratory', u'baby', u'ranihospital']\n",
      "[u'multiple', u'renal', u'gautam', u'calculus', u'devkamal']\n",
      "[u'lcx', u'cardiologist', u'proximal', u'disease', u'rca']\n",
      "Iteration 29\n",
      "Likelihood -66490.55378779754\n",
      "[u'surgical', u'cmh', u'visit', u'wander', u'carewell']\n",
      "[u'remark', u'fbs', u'cemented', u'avatar', u'non']\n",
      "[u'cancer', u'brahmananda', u'tablet', u'carcinoma', u'sudden']\n",
      "[u'due', u'of', u'vital', u'count', u'cell']\n",
      "[u'proveron', u'mmhg', u'wnl', u'lap', u'rajiv']\n",
      "[u'valve', u'presenting', u'adityapur', u'save', u'life']\n",
      "[u'absent', u'drug', u'rishikesh', u'science', u'cag']\n",
      "[u'junior', u'registrar', u'respiratory', u'baby', u'ranihospital']\n",
      "[u'ureteric', u'mch', u'gautam', u'devkamal', u'calculus']\n",
      "[u'cardiologist', u'lcx', u'proximal', u'disease', u'rca']\n"
     ]
    }
   ],
   "source": [
    "for it, phi in enumerate(sampler.run(matrix, edge_dict)):\n",
    "    print \"Iteration\", it\n",
    "    print \"Likelihood\", sampler.loglikelihood(docs_edges)\n",
    "    for i in (sampler.getTopKWords(5, words)):\n",
    "        print(sampler.getTopKWords(5, words)[i])"
   ]
  },
  {
   "cell_type": "code",
   "execution_count": null,
   "metadata": {},
   "outputs": [],
   "source": []
  },
  {
   "cell_type": "code",
   "execution_count": 15,
   "metadata": {},
   "outputs": [],
   "source": [
    "t_words = sampler.getTopKWords(5, words)\n",
    "top_words = [t_words[i] for i in t_words.keys()]"
   ]
  },
  {
   "cell_type": "code",
   "execution_count": 16,
   "metadata": {},
   "outputs": [
    {
     "data": {
      "text/plain": [
       "-5.139703403250907"
      ]
     },
     "execution_count": 16,
     "metadata": {},
     "output_type": "execute_result"
    }
   ],
   "source": [
    "coherence_score(matrix, top_words)"
   ]
  },
  {
   "cell_type": "code",
   "execution_count": 17,
   "metadata": {},
   "outputs": [
    {
     "name": "stdout",
     "output_type": "stream",
     "text": [
      "(12.0, 35.43267241272126, 0.26842933646000955)\n",
      "(2.0, 1.839520863218617, 1.188189768069318)\n",
      "(19.0, 106.95530933883249, 1.5009245906974833)\n",
      "(9.0, 58.25032752304499, 2.3099569174064416)\n",
      "(12.0, 22.2502172384197, 2.4785191692126514)\n",
      "(8.0, 30.127615025627115, 3.0165122946702785)\n",
      "(9.0, 39.20514312311349, 3.561028171380188)\n",
      "(13.0, 42.024114159743746, 3.8304135185580326)\n",
      "(6.0, 6.941270207624446, 4.061789192145514)\n",
      "(10.0, 54.44278804346542, 4.66670905929513)\n"
     ]
    },
    {
     "data": {
      "text/plain": [
       "0.08491541983018364"
      ]
     },
     "execution_count": 17,
     "metadata": {},
     "output_type": "execute_result"
    }
   ],
   "source": [
    "get_hscore(sampler.theta(), matrix)"
   ]
  },
  {
   "cell_type": "code",
   "execution_count": null,
   "metadata": {},
   "outputs": [],
   "source": []
  },
  {
   "cell_type": "code",
   "execution_count": 18,
   "metadata": {},
   "outputs": [
    {
     "data": {
      "text/plain": [
       "(100, 10)"
      ]
     },
     "execution_count": 18,
     "metadata": {},
     "output_type": "execute_result"
    }
   ],
   "source": [
    "sampler.theta().shape"
   ]
  },
  {
   "cell_type": "code",
   "execution_count": 19,
   "metadata": {},
   "outputs": [],
   "source": []
  },
  {
   "cell_type": "code",
   "execution_count": 37,
   "metadata": {},
   "outputs": [],
   "source": [
    "dt_dist = sampler.theta()"
   ]
  },
  {
   "cell_type": "code",
   "execution_count": 38,
   "metadata": {},
   "outputs": [],
   "source": [
    "X_embedded = TSNE(n_components=2).fit_transform(dt_dist)"
   ]
  },
  {
   "cell_type": "code",
   "execution_count": 70,
   "metadata": {},
   "outputs": [],
   "source": [
    "import matplotlib.pyplot as plt\n",
    "from sklearn.manifold import TSNE"
   ]
  },
  {
   "cell_type": "code",
   "execution_count": null,
   "metadata": {},
   "outputs": [],
   "source": [
    "plt.figure(figsize=(8, 8))\n",
    "plt.scatter([i[0] for i in X_embedded], [i[1] for i in X_embedded], c=dt_dist.argmax(axis=1))\n",
    "plt.legend(loc=2)\n",
    "plt.show()"
   ]
  },
  {
   "cell_type": "code",
   "execution_count": null,
   "metadata": {},
   "outputs": [],
   "source": []
  },
  {
   "cell_type": "code",
   "execution_count": null,
   "metadata": {},
   "outputs": [],
   "source": []
  },
  {
   "cell_type": "code",
   "execution_count": null,
   "metadata": {},
   "outputs": [],
   "source": []
  },
  {
   "cell_type": "code",
   "execution_count": null,
   "metadata": {},
   "outputs": [],
   "source": []
  },
  {
   "cell_type": "code",
   "execution_count": null,
   "metadata": {},
   "outputs": [],
   "source": []
  }
 ],
 "metadata": {
  "kernelspec": {
   "display_name": "python2",
   "language": "python",
   "name": "python2"
  },
  "language_info": {
   "codemirror_mode": {
    "name": "ipython",
    "version": 3
   },
   "file_extension": ".py",
   "mimetype": "text/x-python",
   "name": "python",
   "nbconvert_exporter": "python",
   "pygments_lexer": "ipython3",
   "version": "3.7.3"
  }
 },
 "nbformat": 4,
 "nbformat_minor": 2
}
