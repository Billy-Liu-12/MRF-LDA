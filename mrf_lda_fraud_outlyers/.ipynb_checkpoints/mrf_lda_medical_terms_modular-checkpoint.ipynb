{
 "cells": [
  {
   "cell_type": "code",
   "execution_count": 1,
   "metadata": {},
   "outputs": [],
   "source": [
    "from nltk.corpus import stopwords\n",
    "from nltk.tokenize import word_tokenize\n",
    "from nltk.stem import PorterStemmer\n",
    "from num2words import num2words\n",
    "from collections import Counter\n",
    "from scipy import spatial\n",
    "from sklearn.feature_extraction.text import CountVectorizer\n",
    "from sklearn.decomposition import LatentDirichletAllocation\n",
    "from scipy.special import gammaln\n",
    "from collections import Counter\n",
    "from textblob import TextBlob\n",
    "\n",
    "import pickle\n",
    "import gensim\n",
    "import imp\n",
    "import lda2\n",
    "import scipy\n",
    "import operator\n",
    "import nltk\n",
    "import os\n",
    "import string\n",
    "import numpy as np\n",
    "import copy\n",
    "import pandas as pd\n",
    "import pickle"
   ]
  },
  {
   "cell_type": "code",
   "execution_count": null,
   "metadata": {},
   "outputs": [],
   "source": []
  },
  {
   "cell_type": "code",
   "execution_count": 2,
   "metadata": {},
   "outputs": [],
   "source": [
    "def processReviews(reviews, window=5, MAX_VOCAB_SIZE=1000):\n",
    "    vectorizer = CountVectorizer(analyzer=\"word\",tokenizer=None)\n",
    "    train_data_features = vectorizer.fit_transform(reviews)\n",
    "    words = vectorizer.get_feature_names()\n",
    "    vocabulary = dict(zip(words,np.arange(len(words))))\n",
    "    inv_vocabulary = dict(zip(np.arange(len(words)),words))\n",
    "    wordOccurenceMatrix = train_data_features.toarray()\n",
    "    return wordOccurenceMatrix, vocabulary, words\n",
    "\n",
    "def get_cosine(a, b):\n",
    "    return 1 - spatial.distance.cosine(a, b)"
   ]
  },
  {
   "cell_type": "code",
   "execution_count": 3,
   "metadata": {},
   "outputs": [],
   "source": [
    "def coherence_score(X, topic_sentiment_df):\n",
    "    X[X>1] = 1    \n",
    "    totalcnt = len(topic_sentiment_df)\n",
    "    total = 0\n",
    "    for allwords in topic_sentiment_df:\n",
    "        for word1 in allwords:\n",
    "            for word2 in allwords:\n",
    "                if word1 != word2:\n",
    "                    ind1 = vocabulary[word1]\n",
    "                    ind2 = vocabulary[word2]\n",
    "                    total += np.log((np.matmul(X[:,ind1].T, X[:,ind2]) + 1.0)/np.sum(X[:,ind2]))\n",
    "    return total/(2*totalcnt)\n",
    "\n",
    "def kl_score(pk,qk):\n",
    "    return (scipy.stats.entropy(pk,qk)*.5 + scipy.stats.entropy(qk,pk)*.5)\n",
    "\n",
    "def get_hscore(dt_distribution, X, k):\n",
    "    testlen = X.shape[0]\n",
    "    all_kl_scores = np.zeros((testlen, testlen))\n",
    "    for i in range(testlen-1):\n",
    "        for j in range(i+1,testlen):\n",
    "            score = kl_score(dt_distribution[i],dt_distribution[j])\n",
    "            all_kl_scores[i,j] = score\n",
    "            all_kl_scores[j,i] = score\n",
    "\n",
    "    dt = np.zeros((X.shape[0], k))\n",
    "\n",
    "    for i in range(X.shape[0]):\n",
    "        dt[i, dt_distribution[i].argmax()]=1\n",
    "\n",
    "    intradist = 0\n",
    "    for i in range(k):\n",
    "        cnt = dt[:,i].sum()\n",
    "        tmp = np.outer(dt[:,i],dt[:,i])\n",
    "        tmp = tmp * all_kl_scores\n",
    "        intradist += tmp.sum()*1.0/(cnt*(cnt-1))\n",
    "#         print(cnt, tmp.sum(), intradist)\n",
    "    intradist = intradist/k\n",
    "    \n",
    "\n",
    "    interdist = 0\n",
    "    for i in range(k):\n",
    "       for j in range(k):\n",
    "           if i != j:\n",
    "             cnt_i = dt[:,i].sum()\n",
    "             cnt_j = dt[:,j].sum()\n",
    "             tmp = np.outer(dt[:,i], dt[:,j])\n",
    "             tmp = tmp * all_kl_scores\n",
    "             interdist += tmp.sum()*1.0/(cnt_i*cnt_j)\n",
    "    interdist = interdist/(k*(k-1))\n",
    "    return intradist/interdist"
   ]
  },
  {
   "cell_type": "code",
   "execution_count": null,
   "metadata": {},
   "outputs": [],
   "source": []
  },
  {
   "cell_type": "code",
   "execution_count": 4,
   "metadata": {
    "scrolled": true
   },
   "outputs": [
    {
     "name": "stderr",
     "output_type": "stream",
     "text": [
      "/root/miniconda3/envs/python2/lib/python2.7/site-packages/smart_open/smart_open_lib.py:398: UserWarning: This function is deprecated, use smart_open.open instead. See the migration notes for details: https://github.com/RaRe-Technologies/smart_open/blob/master/README.rst#migrating-to-the-new-open-function\n",
      "  'See the migration notes for details: %s' % _MIGRATION_NOTES_URL\n"
     ]
    },
    {
     "name": "stdout",
     "output_type": "stream",
     "text": [
      "CPU times: user 2min 15s, sys: 4.61 s, total: 2min 19s\n",
      "Wall time: 2min 19s\n"
     ]
    }
   ],
   "source": [
    "%%time\n",
    "embeddings_index = gensim.models.KeyedVectors.load_word2vec_format('pubmed2018_w2v_200D/pubmed2018_w2v_200D.bin', binary=True)"
   ]
  },
  {
   "cell_type": "code",
   "execution_count": null,
   "metadata": {},
   "outputs": [],
   "source": []
  },
  {
   "cell_type": "code",
   "execution_count": 5,
   "metadata": {},
   "outputs": [],
   "source": [
    "icd_words = pd.read_csv(\"strict_medical_words.txt\", header=None)[0].values.tolist()"
   ]
  },
  {
   "cell_type": "code",
   "execution_count": 6,
   "metadata": {},
   "outputs": [],
   "source": [
    "# icd_words = pickle.load(open(\"unique_words.pickle\",'rb'))"
   ]
  },
  {
   "cell_type": "code",
   "execution_count": 7,
   "metadata": {},
   "outputs": [],
   "source": [
    "dataset = pd.read_pickle(\"dataset_cleaned_autocorrected\")"
   ]
  },
  {
   "cell_type": "code",
   "execution_count": 8,
   "metadata": {},
   "outputs": [],
   "source": [
    "dataset[8] = dataset[7].apply(lambda x: [item for item in x.split(\" \") if item in icd_words])\n",
    "dataset[9] = dataset[8].apply(lambda x: \" \".join(x))"
   ]
  },
  {
   "cell_type": "code",
   "execution_count": 9,
   "metadata": {},
   "outputs": [],
   "source": [
    "dataset.to_pickle(\"dataset_cleaned_autocorrected_strict_medical_only\")"
   ]
  },
  {
   "cell_type": "code",
   "execution_count": 10,
   "metadata": {},
   "outputs": [],
   "source": [
    "matrix, vocabulary, words = processReviews(dataset[9].values)"
   ]
  },
  {
   "cell_type": "code",
   "execution_count": null,
   "metadata": {},
   "outputs": [],
   "source": []
  },
  {
   "cell_type": "code",
   "execution_count": null,
   "metadata": {},
   "outputs": [],
   "source": []
  },
  {
   "cell_type": "code",
   "execution_count": 11,
   "metadata": {
    "scrolled": true
   },
   "outputs": [],
   "source": [
    "def grid_search(N_TOPICS, lambda_param, edges_threshold):\n",
    "    k = N_TOPICS\n",
    "    docs_edges = []\n",
    "    count = 0\n",
    "    ignored = []\n",
    "    taken = []\n",
    "    for idx, doc in enumerate(dataset[8].values):\n",
    "        edges = []\n",
    "        for i in doc:\n",
    "            for j in doc:\n",
    "                if i != j:\n",
    "                    try:\n",
    "                        a = embeddings_index[i]\n",
    "                        b = embeddings_index[j]\n",
    "                        if get_cosine(a, b) > edges_threshold:\n",
    "                            edges.append((vocabulary[i], vocabulary[j]))\n",
    "                    except:\n",
    "                        try:\n",
    "                            embeddings_index[i]\n",
    "                            taken.append(i)\n",
    "                        except:\n",
    "                            ignored.append(i)\n",
    "                        try:\n",
    "                            embeddings_index[j]\n",
    "                        except:\n",
    "                            ignored.append(j)\n",
    "                            taken.append(j)\n",
    "                        pass\n",
    "        docs_edges.append(edges)\n",
    "\n",
    "    edge_dict = {}\n",
    "    for i in docs_edges:\n",
    "        for j in i:\n",
    "            try:\n",
    "                edge_dict[j[0]] += [j[1]]\n",
    "            except:\n",
    "                edge_dict[j[0]] = [j[1]]\n",
    "    sampler = lda2.LdaSampler(n_topics=N_TOPICS, lambda_param=lambda_param)\n",
    "\n",
    "    for it, phi in enumerate(sampler.run(matrix, edge_dict)):\n",
    "        sampler.loglikelihood(docs_edges)\n",
    "\n",
    "    t_words = sampler.getTopKWords(5, words)\n",
    "    top_words = [t_words[i] for i in t_words.keys()]\n",
    "\n",
    "    return coherence_score(matrix, top_words), get_hscore(sampler.theta(), matrix, k), t_words, sampler"
   ]
  },
  {
   "cell_type": "code",
   "execution_count": null,
   "metadata": {},
   "outputs": [],
   "source": []
  },
  {
   "cell_type": "code",
   "execution_count": 34,
   "metadata": {},
   "outputs": [],
   "source": [
    "N_TOPICS = [9]"
   ]
  },
  {
   "cell_type": "code",
   "execution_count": 35,
   "metadata": {},
   "outputs": [],
   "source": [
    "edges_threshold = [0.3, 0.5, 0.7]"
   ]
  },
  {
   "cell_type": "code",
   "execution_count": 36,
   "metadata": {},
   "outputs": [],
   "source": [
    "lambda_param = [0.3, 0.7, 1.0]"
   ]
  },
  {
   "cell_type": "code",
   "execution_count": null,
   "metadata": {},
   "outputs": [],
   "source": []
  },
  {
   "cell_type": "code",
   "execution_count": 41,
   "metadata": {},
   "outputs": [],
   "source": [
    "dump = []\n",
    "for i in N_TOPICS:\n",
    "    for j in edges_threshold:\n",
    "        for k in lambda_param:\n",
    "            dump.append((i, j, k, grid_search(N_TOPICS=i, edges_threshold=j, lambda_param=k)))"
   ]
  },
  {
   "cell_type": "code",
   "execution_count": 42,
   "metadata": {
    "scrolled": true
   },
   "outputs": [
    {
     "name": "stdout",
     "output_type": "stream",
     "text": [
      "\n",
      "(0, 9, 0.3, 0.3, -7.018596937541025, 0.1553310190629228)\n",
      "[u'genetic', u'anesthesia', u'anesthetic', u'institution', u'schedule']\n",
      "[u'lump', u'wound', u'skin', u'hiv', u'urine']\n",
      "[u'urea', u'schedule', u'screening', u'preterm', u'sepsis']\n",
      "[u'residual', u'angioplasty', u'proximal', u'artery', u'using']\n",
      "[u'lung', u'allergy', u'oriented', u'urology', u'abdominal']\n",
      "[u'pallor', u'routine', u'uterus', u'murmur', u'cyanosis']\n",
      "[u'febrile', u'mucosa', u'multi', u'cell', u'global']\n",
      "[u'cancer', u'diabetic', u'consciousness', u'cycle', u'event']\n",
      "[u'trauma', u'restricted', u'wound', u'fever', u'knee']\n",
      "\n",
      "(1, 9, 0.3, 0.7, -6.134952140520126, 0.16113032016033405)\n",
      "[u'mechanical', u'generalized', u'transfusion', u'weakness', u'due']\n",
      "[u'residual', u'angioplasty', u'proximal', u'using', u'artery']\n",
      "[u'hydrocele', u'anesthesia', u'genetic', u'institution', u'anesthetic']\n",
      "[u'routine', u'uterus', u'pallor', u'murmur', u'cyanosis']\n",
      "[u'cell', u'multiple', u'hiv', u'skin', u'urine']\n",
      "[u'allergy', u'lung', u'oriented', u'surgical', u'abdominal']\n",
      "[u'global', u'radiotherapy', u'node', u'carcinoma', u'cancer']\n",
      "[u'diabetic', u'allergy', u'consciousness', u'cycle', u'event']\n",
      "[u'stone', u'renal', u'preterm', u'platelet', u'respiratory']\n",
      "\n",
      "(2, 9, 0.3, 1.0, -7.698427029511897, 0.17296189847454685)\n",
      "[u'symptomatic', u'oriented', u'lung', u'fever', u'abdominal']\n",
      "[u'angioplasty', u'residual', u'proximal', u'using', u'artery']\n",
      "[u'joint', u'knee', u'hip', u'restricted', u'due']\n",
      "[u'ecg', u'hiv', u'cell', u'skin', u'urine']\n",
      "[u'lymphocyte', u'unit', u'platelet', u'urea', u'preterm']\n",
      "[u'allergy', u'diabetic', u'consciousness', u'cycle', u'event']\n",
      "[u'screening', u'stage', u'immunization', u'sepsis', u'schedule']\n",
      "[u'node', u'stage', u'renal', u'carcinoma', u'urology']\n",
      "[u'routine', u'murmur', u'uterus', u'pallor', u'cyanosis']\n",
      "\n",
      "(3, 9, 0.5, 0.3, -8.40289050966718, 0.16545703160820266)\n",
      "[u'parietal', u'deformity', u'trauma', u'due', u'wound']\n",
      "[u'residual', u'using', u'angioplasty', u'proximal', u'artery']\n",
      "[u'abdominal', u'consciousness', u'surgical', u'event', u'allergy']\n",
      "[u'aseptic', u'antibiotic', u'oriented', u'knee', u'tibia']\n",
      "[u'preterm', u'schedule', u'screening', u'cell', u'respiratory']\n",
      "[u'mechanical', u'using', u'replacement', u'vascular', u'arm']\n",
      "[u'abdomen', u'stone', u'stage', u'renal', u'urology']\n",
      "[u'schedule', u'anesthetic', u'node', u'genetic', u'cancer']\n",
      "[u'ecg', u'diagnostic', u'skin', u'hiv', u'urine']\n",
      "\n",
      "(4, 9, 0.5, 0.7, -7.988467900306661, 0.17294964176811958)\n",
      "[u'diabetic', u'allergy', u'consciousness', u'cycle', u'event']\n",
      "[u'urology', u'institution', u'renal', u'genetic', u'schedule']\n",
      "[u'oral', u'preterm', u'schedule', u'stage', u'respiratory']\n",
      "[u'residual', u'angioplasty', u'proximal', u'artery', u'using']\n",
      "[u'joint', u'knee', u'tibia', u'restricted', u'wound']\n",
      "[u'uterus', u'murmur', u'urea', u'diagnostic', u'cyanosis']\n",
      "[u'ecg', u'skin', u'hiv', u'fever', u'urine']\n",
      "[u'mucous', u'surgical', u'mucosa', u'multiple', u'pallor']\n",
      "[u'hip', u'symptomatic', u'oriented', u'lung', u'abdominal']\n",
      "\n",
      "(5, 9, 0.5, 1.0, -8.04766539981437, 0.1536508676171024)\n",
      "[u'anesthetic', u'diabetic', u'schedule', u'event', u'consciousness']\n",
      "[u'deformity', u'tibia', u'restricted', u'joint', u'knee']\n",
      "[u'oriented', u'allergy', u'abdominal', u'surgical', u'urine']\n",
      "[u'angioplasty', u'residual', u'using', u'proximal', u'artery']\n",
      "[u'vomiting', u'weakness', u'due', u'stage', u'cell']\n",
      "[u'ureteric', u'kidney', u'renal', u'stone', u'lung']\n",
      "[u'radiation', u'management', u'alveolus', u'node', u'cancer']\n",
      "[u'spinal', u'hip', u'non', u'vascular', u'trauma']\n",
      "[u'stage', u'distress', u'preterm', u'cell', u'sepsis']\n",
      "\n",
      "(6, 9, 0.7, 0.3, -7.973112539013531, 0.1387183256094732)\n",
      "[u'ureteric', u'routine', u'kidney', u'urology', u'stone']\n",
      "[u'appendicitis', u'wound', u'skin', u'hiv', u'urine']\n",
      "[u'stage', u'sepsis', u'respiratory', u'institution', u'genetic']\n",
      "[u'diabetic', u'allergy', u'cycle', u'consciousness', u'chemotherapy']\n",
      "[u'trauma', u'due', u'joint', u'restricted', u'wound']\n",
      "[u'residual', u'angioplasty', u'using', u'proximal', u'artery']\n",
      "[u'abdomen', u'symptomatic', u'allergy', u'oriented', u'abdominal']\n",
      "[u'global', u'stage', u'node', u'pallor', u'cancer']\n",
      "[u'oral', u'lymphocyte', u'cell', u'respiratory', u'sepsis']\n",
      "\n",
      "(7, 9, 0.7, 0.7, -6.702887129126819, 0.1645657803096397)\n",
      "[u'replacement', u'vascular', u'tricuspid', u'parietal', u'using']\n",
      "[u'radiotherapy', u'global', u'node', u'carcinoma', u'cancer']\n",
      "[u'ureteric', u'unilateral', u'renal', u'lung', u'stone']\n",
      "[u'anesthesia', u'institution', u'anesthetic', u'genetic', u'wound']\n",
      "[u'event', u'consciousness', u'unit', u'cycle', u'allergy']\n",
      "[u'wound', u'cell', u'skin', u'hiv', u'urine']\n",
      "[u'ecg', u'murmur', u'urea', u'cyanosis', u'diagnostic']\n",
      "[u'distress', u'immunization', u'screening', u'schedule', u'sepsis']\n",
      "[u'using', u'residual', u'angioplasty', u'proximal', u'artery']\n",
      "\n",
      "(8, 9, 0.7, 1.0, -7.497453966639471, 0.1719837082108525)\n",
      "[u'lung', u'allergy', u'symptomatic', u'oriented', u'surgical']\n",
      "[u'wound', u'renal', u'hip', u'joint', u'stone']\n",
      "[u'dysfunction', u'dominant', u'using', u'artery', u'proximal']\n",
      "[u'diabetic', u'allergy', u'consciousness', u'cycle', u'event']\n",
      "[u'anesthetic', u'anesthesia', u'schedule', u'hiv', u'urine']\n",
      "[u'routine', u'murmur', u'ecg', u'uterus', u'cyanosis']\n",
      "[u'myocardial', u'mellitus', u'cardiac', u'therapy', u'residual']\n",
      "[u'immunization', u'preterm', u'schedule', u'screening', u'respiratory']\n",
      "[u'global', u'radiotherapy', u'node', u'cancer', u'carcinoma']\n"
     ]
    }
   ],
   "source": [
    "for idx, i in enumerate(dump):\n",
    "    print(\"\")\n",
    "    print(idx, i[0], i[1], i[2], i[3][0], i[3][1])\n",
    "    for j in i[3][2]:\n",
    "        print(i[3][2][j])"
   ]
  },
  {
   "cell_type": "code",
   "execution_count": null,
   "metadata": {},
   "outputs": [],
   "source": []
  },
  {
   "cell_type": "code",
   "execution_count": 43,
   "metadata": {},
   "outputs": [],
   "source": [
    "sam = dump[1]"
   ]
  },
  {
   "cell_type": "code",
   "execution_count": 75,
   "metadata": {
    "scrolled": true
   },
   "outputs": [
    {
     "data": {
      "text/plain": [
       "{0: [u'mechanical', u'generalized', u'transfusion', u'weakness', u'due'],\n",
       " 1: [u'residual', u'angioplasty', u'proximal', u'using', u'artery'],\n",
       " 2: [u'hydrocele', u'anesthesia', u'genetic', u'institution', u'anesthetic'],\n",
       " 3: [u'routine', u'uterus', u'pallor', u'murmur', u'cyanosis'],\n",
       " 4: [u'cell', u'multiple', u'hiv', u'skin', u'urine'],\n",
       " 5: [u'allergy', u'lung', u'oriented', u'surgical', u'abdominal'],\n",
       " 6: [u'global', u'radiotherapy', u'node', u'carcinoma', u'cancer'],\n",
       " 7: [u'diabetic', u'allergy', u'consciousness', u'cycle', u'event'],\n",
       " 8: [u'stone', u'renal', u'preterm', u'platelet', u'respiratory']}"
      ]
     },
     "execution_count": 75,
     "metadata": {},
     "output_type": "execute_result"
    }
   ],
   "source": [
    "sam[3][2]"
   ]
  },
  {
   "cell_type": "code",
   "execution_count": 76,
   "metadata": {},
   "outputs": [],
   "source": [
    "sampler = sam[3][3]"
   ]
  },
  {
   "cell_type": "code",
   "execution_count": 77,
   "metadata": {
    "scrolled": true
   },
   "outputs": [
    {
     "name": "stdout",
     "output_type": "stream",
     "text": [
      "(0, 0)\n",
      "(1, 0)\n",
      "(2, 1)\n",
      "(3, 2)\n",
      "(4, 2)\n",
      "(5, 2)\n",
      "(6, 7)\n",
      "(7, 7)\n",
      "(8, 7)\n",
      "(9, 7)\n",
      "(10, 7)\n",
      "(11, 7)\n",
      "(12, 8)\n",
      "(13, 6)\n",
      "(14, 6)\n",
      "(15, 6)\n",
      "(16, 6)\n",
      "(17, 6)\n",
      "(18, 7)\n",
      "(19, 7)\n",
      "(20, 7)\n",
      "(21, 7)\n",
      "(22, 7)\n",
      "(23, 8)\n",
      "(24, 7)\n",
      "(25, 7)\n",
      "(26, 2)\n",
      "(27, 2)\n",
      "(28, 8)\n",
      "(29, 8)\n",
      "(30, 8)\n",
      "(31, 2)\n",
      "(32, 8)\n",
      "(33, 8)\n",
      "(34, 0)\n",
      "(35, 2)\n",
      "(36, 0)\n",
      "(37, 8)\n",
      "(38, 8)\n",
      "(39, 2)\n",
      "(40, 8)\n",
      "(41, 4)\n",
      "(42, 4)\n",
      "(43, 4)\n",
      "(44, 4)\n",
      "(45, 4)\n",
      "(46, 4)\n",
      "(47, 4)\n",
      "(48, 4)\n",
      "(49, 4)\n",
      "(50, 4)\n",
      "(51, 0)\n",
      "(52, 4)\n",
      "(53, 7)\n",
      "(54, 2)\n",
      "(55, 5)\n",
      "(56, 7)\n",
      "(57, 8)\n",
      "(58, 3)\n",
      "(59, 5)\n",
      "(60, 5)\n",
      "(61, 5)\n",
      "(62, 1)\n",
      "(63, 5)\n",
      "(64, 8)\n",
      "(65, 0)\n",
      "(66, 4)\n",
      "(67, 5)\n",
      "(68, 0)\n",
      "(69, 5)\n",
      "(70, 3)\n",
      "(71, 3)\n",
      "(72, 8)\n",
      "(73, 8)\n",
      "(74, 3)\n",
      "(75, 3)\n",
      "(76, 3)\n",
      "(77, 3)\n",
      "(78, 7)\n",
      "(79, 6)\n",
      "(80, 5)\n",
      "(81, 5)\n",
      "(82, 5)\n",
      "(83, 5)\n",
      "(84, 5)\n",
      "(85, 6)\n",
      "(86, 0)\n",
      "(87, 1)\n",
      "(88, 0)\n",
      "(89, 1)\n",
      "(90, 1)\n",
      "(91, 1)\n",
      "(92, 1)\n",
      "(93, 1)\n",
      "(94, 1)\n",
      "(95, 0)\n",
      "(96, 1)\n",
      "(97, 0)\n",
      "(98, 1)\n",
      "(99, 1)\n"
     ]
    }
   ],
   "source": [
    "for idx, i in enumerate(sampler.theta().argmax(axis=1)):\n",
    "    print(idx, i)"
   ]
  },
  {
   "cell_type": "code",
   "execution_count": 69,
   "metadata": {},
   "outputs": [],
   "source": [
    "# 0 - weak\n",
    "# 1 - heart stunt\n",
    "# 2 - anesthetia\n",
    "# 3 - pergnet\n",
    "# 4 - HIV\n",
    "# 5 - surgery\n",
    "# 6 - cancer\n",
    "# 7 - allergy\n",
    "# 8 - stone"
   ]
  },
  {
   "cell_type": "code",
   "execution_count": null,
   "metadata": {},
   "outputs": [],
   "source": []
  },
  {
   "cell_type": "code",
   "execution_count": 86,
   "metadata": {},
   "outputs": [
    {
     "data": {
      "text/plain": [
       "u'unilateral ureter catheterization retrograde stone ureter unilateral abdomen ureteric ureteric fragment kidney'"
      ]
     },
     "execution_count": 86,
     "metadata": {},
     "output_type": "execute_result"
    }
   ],
   "source": [
    "dataset[9][12]"
   ]
  },
  {
   "cell_type": "code",
   "execution_count": 87,
   "metadata": {},
   "outputs": [
    {
     "name": "stdout",
     "output_type": "stream",
     "text": [
      "DEVKAMAL HOSPITAL AND RESEARCH CENTRE\n",
      "Case No. CASE/HOSP20 P07056/P25187\n",
      "Package Billed: DJ stent unilateral including cystoscopy, ureteric catheterization, retrograde pyelogram(S700055)\n",
      "Ureteroscopy+stone removal with lithotripsy, upper ureter, unilateral(S700040)\n",
      "DEVKAMAL\n",
      "HOSPITAL देवगन ॐास्पिटल\n",
      "DEVKAMAL HOSPITAL & RESEARCH CENTRE\n",
      "(SUPER SPECIALITY HOSPITAL) Bajra Near ITI BusStand Ranchi-834005[Jharichand) -9204055638,07549000111 - www.devkamalhospital.com\n",
      "IPD/18-19/01698 ASHA RANI\n",
      "IPO No Patient Name Father/Spouse Company Doctor City\n",
      "DISCHARGE SUMMARY\n",
      "Receipt No Age/Gender Admission Date Discharge Date Bed/Room\n",
      "AYUSHMAN Dr Raj Kumar Sharma Ranchi\n",
      "38 Year Female 24/12/2015 26/12/2018 CABIN-102\n",
      "PRESENTING COMPLAINTS : Came with C/O Pain (R) side of abdomen.\n",
      "PAST HISTORY : No H/O Dm & HTN.\n",
      "PHYSICAL FINDINGS :\n",
      "FINAL DIAGNOSIS : Right Ureteric Stone.\n",
      "CLINICAL IMPRESSION : Uneventful.\n",
      "PROCEDURE DONE : Cystoscopy (N), Right Sided URS showed Ureteric Stone which was fragmented, it migrated into kidney, and its broken in sup calyx. Dj Stent Given.\n",
      "DISCHARGE ADVICE:\n",
      "1. Tab. Ollomac Itabx BD for 5 days. 2. Tab. P 500 Itab x BD for 3 days. 3. Tab. Rantac 150mg tab x BD for 5 days. 4. Dj Stent Removal after 1 month.\n",
      "FOLLOW UP : Review after 1 month for Dj Stent Removal ot SOS.\n",
      "ANY OTHER INSTRUCTION :\n",
      "DIET:\n",
      "AN\n",
      "Doctor Signature\n"
     ]
    }
   ],
   "source": [
    "print(dataset['Text'][12])"
   ]
  },
  {
   "cell_type": "code",
   "execution_count": null,
   "metadata": {},
   "outputs": [],
   "source": [
    "def plot_TSNE(dt_distribution):\n",
    "    X_embedded = TSNE(n_components=2).fit_transform(dt_distribution)\n",
    "\n",
    "    X = np.array([i[0] for i in X_embedded])\n",
    "    Y = np.array([i[1] for i in X_embedded])\n",
    "    C = dt_distribution.argmax(axis=1)\n",
    "    for i in range(10):\n",
    "        xx = X[[np.where(C == i)[0].tolist()]]\n",
    "        yy = Y[[np.where(C == i)[0].tolist()]]\n",
    "        plt.scatter(xx, yy, label=str(i))\n",
    "\n",
    "    plt.title('Document-Topic Distribution')\n",
    "    plt.legend(loc=(1.04,0))\n",
    "    plt.show()\n",
    "    \n",
    "def get_doc_details(num):\n",
    "    print(\"label: \", C[num])\n",
    "    print(dataset[9][num])"
   ]
  },
  {
   "cell_type": "code",
   "execution_count": null,
   "metadata": {},
   "outputs": [],
   "source": []
  },
  {
   "cell_type": "code",
   "execution_count": null,
   "metadata": {},
   "outputs": [],
   "source": [
    "dump[-1][3][3].argmax(axis=1)[0]"
   ]
  },
  {
   "cell_type": "code",
   "execution_count": null,
   "metadata": {},
   "outputs": [],
   "source": []
  },
  {
   "cell_type": "code",
   "execution_count": null,
   "metadata": {},
   "outputs": [],
   "source": [
    "plot_TSNE"
   ]
  },
  {
   "cell_type": "code",
   "execution_count": null,
   "metadata": {},
   "outputs": [],
   "source": []
  },
  {
   "cell_type": "code",
   "execution_count": null,
   "metadata": {},
   "outputs": [],
   "source": [
    "# for idx, i in enumerate(dump):\n",
    "#     if idx == 23:\n",
    "#         for j in i[3][2]:\n",
    "#             print(i[3][2][j])"
   ]
  },
  {
   "cell_type": "code",
   "execution_count": 12,
   "metadata": {},
   "outputs": [
    {
     "name": "stdout",
     "output_type": "stream",
     "text": [
      "CPU times: user 6min 58s, sys: 50.6 ms, total: 6min 58s\n",
      "Wall time: 6min 58s\n"
     ]
    }
   ],
   "source": [
    "%%time\n",
    "results =  grid_search(N_TOPICS=9, edges_threshold=0.3, lambda_param=1.0)"
   ]
  },
  {
   "cell_type": "code",
   "execution_count": 13,
   "metadata": {},
   "outputs": [
    {
     "data": {
      "text/plain": [
       "-7.478090917703349"
      ]
     },
     "execution_count": 13,
     "metadata": {},
     "output_type": "execute_result"
    }
   ],
   "source": [
    "results[0]"
   ]
  },
  {
   "cell_type": "code",
   "execution_count": 32,
   "metadata": {},
   "outputs": [
    {
     "data": {
      "text/plain": [
       "<lda2.LdaSampler at 0x7fe2a18f6190>"
      ]
     },
     "execution_count": 32,
     "metadata": {},
     "output_type": "execute_result"
    }
   ],
   "source": [
    "results[3]"
   ]
  },
  {
   "cell_type": "code",
   "execution_count": 15,
   "metadata": {},
   "outputs": [
    {
     "data": {
      "text/plain": [
       "(-7.478090917703349,\n",
       " 0.13183622785275587,\n",
       " {0: [u'unit', u'diabetic', u'consciousness', u'chemotherapy', u'event'],\n",
       "  1: [u'abdominal', u'unilateral', u'renal', u'oriented', u'lung'],\n",
       "  2: [u'inguinal', u'skin', u'cell', u'appendix', u'urine'],\n",
       "  3: [u'reactive', u'urea', u'antibiotic', u'platelet', u'non'],\n",
       "  4: [u'artery', u'using', u'angioplasty', u'dominant', u'proximal'],\n",
       "  5: [u'breast', u'multiple', u'node', u'radiotherapy', u'cancer'],\n",
       "  6: [u'schedule', u'distress', u'stage', u'preterm', u'sepsis'],\n",
       "  7: [u'complication', u'uterus', u'murmur', u'pallor', u'cyanosis'],\n",
       "  8: [u'tibia', u'joint', u'wound', u'fever', u'due']},\n",
       " <lda2.LdaSampler at 0x7f9e6391d810>)"
      ]
     },
     "execution_count": 15,
     "metadata": {},
     "output_type": "execute_result"
    }
   ],
   "source": [
    "results"
   ]
  },
  {
   "cell_type": "code",
   "execution_count": null,
   "metadata": {},
   "outputs": [],
   "source": []
  },
  {
   "cell_type": "code",
   "execution_count": null,
   "metadata": {},
   "outputs": [],
   "source": []
  },
  {
   "cell_type": "code",
   "execution_count": null,
   "metadata": {},
   "outputs": [],
   "source": []
  },
  {
   "cell_type": "code",
   "execution_count": null,
   "metadata": {},
   "outputs": [],
   "source": []
  },
  {
   "cell_type": "code",
   "execution_count": null,
   "metadata": {},
   "outputs": [],
   "source": [
    "# Centroid\n",
    "# for i in results[2]:\n",
    "#     a = (results[2][i])\n",
    "#     avg_dist = []\n",
    "#     for i in a:\n",
    "#         sum = 0\n",
    "#         for  j in a:\n",
    "#             if i!=j:\n",
    "#                 distance = get_cosine(embeddings_index[i], embeddings_index[j])\n",
    "#                 sum += distance\n",
    "#         avg_dist.append(sum)\n",
    "#     print(np.array(avg_dist).argmin(), a[np.array(avg_dist).argmin()], a)"
   ]
  },
  {
   "cell_type": "code",
   "execution_count": null,
   "metadata": {},
   "outputs": [],
   "source": []
  },
  {
   "cell_type": "code",
   "execution_count": null,
   "metadata": {},
   "outputs": [],
   "source": []
  },
  {
   "cell_type": "code",
   "execution_count": null,
   "metadata": {},
   "outputs": [],
   "source": []
  },
  {
   "cell_type": "code",
   "execution_count": null,
   "metadata": {},
   "outputs": [],
   "source": []
  },
  {
   "cell_type": "code",
   "execution_count": null,
   "metadata": {},
   "outputs": [],
   "source": []
  },
  {
   "cell_type": "code",
   "execution_count": null,
   "metadata": {},
   "outputs": [],
   "source": []
  }
 ],
 "metadata": {
  "kernelspec": {
   "display_name": "Python 2",
   "language": "python",
   "name": "python2"
  },
  "language_info": {
   "codemirror_mode": {
    "name": "ipython",
    "version": 2
   },
   "file_extension": ".py",
   "mimetype": "text/x-python",
   "name": "python",
   "nbconvert_exporter": "python",
   "pygments_lexer": "ipython2",
   "version": "2.7.16"
  }
 },
 "nbformat": 4,
 "nbformat_minor": 2
}
